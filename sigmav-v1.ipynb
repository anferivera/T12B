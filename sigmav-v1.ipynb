{
 "cells": [
  {
   "cell_type": "markdown",
   "metadata": {},
   "source": [
    "## T12B model: $\\langle \\sigma_v\\rangle$"
   ]
  },
  {
   "cell_type": "code",
   "execution_count": 1,
   "metadata": {},
   "outputs": [],
   "source": [
    "import numpy as np\n",
    "import pandas as pd\n",
    "import subprocess\n",
    "import time\n",
    "\n",
    "%matplotlib inline\n",
    "import matplotlib.pyplot as plt "
   ]
  },
  {
   "cell_type": "code",
   "execution_count": 2,
   "metadata": {},
   "outputs": [],
   "source": [
    "#good plots\n",
    "plt.rcParams.update({'font.size': 18}) \n",
    "#plt.rc('font',size='18')"
   ]
  },
  {
   "cell_type": "markdown",
   "metadata": {},
   "source": [
    "# General scan"
   ]
  },
  {
   "cell_type": "code",
   "execution_count": 77,
   "metadata": {},
   "outputs": [
    {
     "name": "stdout",
     "output_type": "stream",
     "text": [
      "n= 0 Omega= 121000.0 sigmav= 5.43e-33\n"
     ]
    }
   ],
   "source": [
    "#!/usr/bin/env python\n",
    "\n",
    "import pyslha\n",
    "import pyT12B_LesHouches_generator\n",
    "import numpy as np\n",
    "import pandas as pd\n",
    "import subprocess\n",
    "import time\n",
    "import sys\n",
    "\n",
    "# Tiempo inicial\n",
    "t1=time.time() \n",
    "\n",
    "xdict = pyT12B_LesHouches_generator.buildSLHAinFile()\n",
    "\n",
    "x=[]\n",
    "\n",
    "Num = 1\n",
    "\n",
    "for n in range(0,Num):\n",
    "    \n",
    "    Lambda1 = 1.3e-1 #Warning\n",
    "    L6 = 1.300000E-02\n",
    "    \n",
    "    mu31 = 1.01e6\n",
    "    mu32 = 2.01e6\n",
    "    mu33 = 1.01e8\n",
    "    L71 = 1.01e-2\n",
    "    L72 = 2.01e-2\n",
    "    L73 = 3.01e-4\n",
    "    \n",
    "    MN = 7.1\n",
    "    MPsi = 300.1\n",
    "    Meta = 101.1\n",
    "    l1 = 1.02e-5\n",
    "    l2 = 2.01e-5\n",
    "    y1 = 1.01e-2\n",
    "    y2 = 2.1e-3\n",
    "    \n",
    "    # Modific the LesHouches         \n",
    "    xdict.blocks['MINPAR'].entries[1]='%.6E    # lambda1Input' %Lambda1     \n",
    "    xdict.blocks['MINPAR'].entries[2]='%.6E    # lambda61Input' %L6 \n",
    "    xdict.blocks['MINPAR'].entries[5]='%.6E    # lambda71Input' %L71   \n",
    "    xdict.blocks['MINPAR'].entries[6]='%.6E    # lambda72Input' %L72   \n",
    "    xdict.blocks['MINPAR'].entries[7]='%.6E    # lambda73Input' %L73       \n",
    "    xdict.blocks['MINPAR'].entries[8]='%.6E    # mu31Input' %mu31\n",
    "    xdict.blocks['MINPAR'].entries[9]='%.6E    # mu32Input' %mu32\n",
    "    xdict.blocks['MINPAR'].entries[10]='%.6E    # mu33Input' %mu33\n",
    "        \n",
    "    xdict.blocks['MNIN'].entries[1]='%.6E    # MN' %MN\n",
    "    xdict.blocks['MR1IN'].entries[1]='%.6E    # Mr1' %MPsi\n",
    "    xdict.blocks['MR2IN'].entries[1]='%.6E    # Mr2' %Meta\n",
    "    xdict.blocks['YLR1IN'].entries[1]='%.6E    # YlR1' %l1\n",
    "    xdict.blocks['YLR2IN'].entries[1]='%.6E    # YlR2' %l2\n",
    "    xdict.blocks['YYR1IN'].entries[1]='%.6E    # YyR1' %y1\n",
    "    xdict.blocks['YYR2IN'].entries[1]='%.6E    # YyR2' %y2\n",
    "\n",
    "    h11 = np.exp(np.random.uniform(np.log(10**(-4)),np.log(10**(-2))))\n",
    "    h12 = np.exp(np.random.uniform(np.log(10**(-4)),np.log(10**(-2))))\n",
    "    h13 = np.exp(np.random.uniform(np.log(10**(-4)),np.log(10**(-2))))\n",
    "\n",
    "    h21 = np.exp(np.random.uniform(np.log(10**(-4)),np.log(10**(-2))))\n",
    "    h22 = np.exp(np.random.uniform(np.log(10**(-4)),np.log(10**(-2))))\n",
    "    h23 = np.exp(np.random.uniform(np.log(10**(-4)),np.log(10**(-2))))\n",
    "    \n",
    "    h31 = np.exp(np.random.uniform(np.log(10**(-4)),np.log(10**(-2))))\n",
    "    h32 = np.exp(np.random.uniform(np.log(10**(-4)),np.log(10**(-2))))\n",
    "    h33 = np.exp(np.random.uniform(np.log(10**(-4)),np.log(10**(-2))))\n",
    "    \n",
    "    xdict.blocks['YHR1IN'].entries[1]='%.6E    # YhR1(1)' %h11\n",
    "    xdict.blocks['YHR1IN'].entries[2]='%.6E    # YhR1(2)' %h12\n",
    "    xdict.blocks['YHR1IN'].entries[3]='%.6E    # YhR1(3)' %h13\n",
    "    \n",
    "    xdict.blocks['YHR2IN'].entries[1]='%.6E    # YhR2(1)' %h21\n",
    "    xdict.blocks['YHR2IN'].entries[2]='%.6E    # YhR2(2)' %h22\n",
    "    xdict.blocks['YHR2IN'].entries[3]='%.6E    # YhR2(3)' %h23\n",
    "    \n",
    "    xdict.blocks['YHR3IN'].entries[1]='%.6E    # YhR3(1)' %h31\n",
    "    xdict.blocks['YHR3IN'].entries[2]='%.6E    # YhR3(2)' %h32\n",
    "    xdict.blocks['YHR3IN'].entries[3]='%.6E    # YhR3(3)' %h33\n",
    "    \n",
    "    #write\n",
    "    pyslha.writeSLHAFile('LesHouches.in.T12B_low',xdict)    \n",
    "    \n",
    "    #run SPheno\n",
    "    spheno = subprocess.getoutput('../.././SPheno-4.0.3/bin/SPhenoT12B LesHouches.in.T12B_low')    \n",
    "    so = subprocess.getoutput('cat SPheno.spc.T12B')\n",
    "    \n",
    "    if so.split('# Fk')[1].split()[1] == \"NaN\":\n",
    "        mv1 = 0.\n",
    "    else: \n",
    "        mv1 = eval(so.split('# Fk')[1].split()[1])           \n",
    "    mv2 = eval(so.split('# Fk')[1].split()[5])       \n",
    "    mv3 = eval(so.split('# Fk')[1].split()[9]) \n",
    "    \n",
    "    #Diracneutros\n",
    "    mFn1 = eval(so.split('# Fe_3')[1].split()[1])\n",
    "    mFn2 = eval(so.split('# Fe_3')[1].split()[5])\n",
    "    mFn3 = eval(so.split('# Fe_3')[1].split()[9])\n",
    "    #charged leptons\n",
    "    mFr1 = eval(so.split('# Fe_3')[1].split()[13])\n",
    "    mFr2 = eval(so.split('# Fe_3')[1].split()[17])\n",
    "    #exotic quark\n",
    "    mFk = eval(so.split('# Fe_3')[1].split()[21])\n",
    "    #Neutral scalars\n",
    "    ms01 = eval(so.split('#   PDG code')[1].split()[7])\n",
    "    ms02 = eval(so.split('#   PDG code')[1].split()[11])\n",
    "    ms03 = eval(so.split('#   PDG code')[1].split()[15])\n",
    "    #Rotation og phi^c\n",
    "    QL11 = eval(so.split('Block LCHARGEDFMIX ')[1].split()[6])\n",
    "    QL12 = eval(so.split('Block LCHARGEDFMIX ')[1].split()[11])\n",
    "    QL21 = eval(so.split('Block LCHARGEDFMIX ')[1].split()[16])\n",
    "    QL22 = eval(so.split('Block LCHARGEDFMIX ')[1].split()[21])\n",
    "    \n",
    "    #mu-> egamma\n",
    "    meg = eval(so.split('Block FlavorKitLFV')[1].split()[6])\n",
    "    \n",
    "    #run micromegas.\n",
    "    mo = subprocess.getoutput('~/Work/micromegas_5.0.4/T12B/./CalcOmega_with_DI_Detection')\n",
    "    \n",
    "    if len(mo.split()) == 2:\n",
    "        continue\n",
    "    \n",
    "    Omega = eval(mo.split('Omega h^2=')[1].split()[0])\n",
    "   \n",
    "    '''\n",
    "    SIP = eval(mo.split('CDM-nucleon cross sections[pb]:')[1].split()[2])\n",
    "    SDP = eval(mo.split('CDM-nucleon cross sections[pb]:')[1].split()[4])\n",
    "    SIN = eval(mo.split('CDM-nucleon cross sections[pb]:')[1].split()[7])\n",
    "    SDN = eval(mo.split('CDM-nucleon cross sections[pb]:')[1].split()[9])\n",
    "    '''\n",
    "    sv = eval(mo.split('annihilation cross section')[1].split()[0])\n",
    "    \n",
    "    print(\"n=\",n,\"Omega=\",Omega,\"sigmav=\",sv)\n",
    "    \n",
    "    x.append([h11,h12,h13,h21,h22,h23,h31,h32,h33,mv1,mv2,mv3,meg,mFn1,mFn2,mFn3,mFr1,mFr2,mFk,ms01,\\\n",
    "              ms02,ms03,QL11,QL12,QL21,QL22,Omega,sv])\n",
    "    \n",
    "x=np.asarray(x)\n",
    "xd=pd.DataFrame(x,columns=['h11','h12','h13','h21','h22','h23','h31','h32','h33','mv1','mv2','mv3',\\\n",
    "                           'meg','mFn1','mFn2','mFn3','mFr1','mFr2','mFk','ms01','ms02','ms03','QL11',\\\n",
    "                           'QL12','QL21','QL22','Omega','sv'])\n",
    "\n",
    "t2=time.time() \n",
    "#print (\"The program spent\", t2-t1, \"s running\",Num,\"times\")          "
   ]
  },
  {
   "cell_type": "code",
   "execution_count": 68,
   "metadata": {},
   "outputs": [
    {
     "data": {
      "text/html": [
       "<div>\n",
       "<table border=\"1\" class=\"dataframe\">\n",
       "  <thead>\n",
       "    <tr style=\"text-align: right;\">\n",
       "      <th></th>\n",
       "      <th>Omega</th>\n",
       "      <th>sv</th>\n",
       "      <th>mv1</th>\n",
       "      <th>mv2</th>\n",
       "      <th>mv3</th>\n",
       "      <th>mFn1</th>\n",
       "      <th>mFn2</th>\n",
       "      <th>mFn3</th>\n",
       "    </tr>\n",
       "  </thead>\n",
       "  <tbody>\n",
       "    <tr>\n",
       "      <th>0</th>\n",
       "      <td>3050000.0</td>\n",
       "      <td>6.610000e-35</td>\n",
       "      <td>0.0</td>\n",
       "      <td>2.924848e-18</td>\n",
       "      <td>2.437679e-17</td>\n",
       "      <td>7.097721</td>\n",
       "      <td>299.531483</td>\n",
       "      <td>300.524766</td>\n",
       "    </tr>\n",
       "  </tbody>\n",
       "</table>\n",
       "</div>"
      ],
      "text/plain": [
       "       Omega            sv  mv1           mv2           mv3      mFn1  \\\n",
       "0  3050000.0  6.610000e-35  0.0  2.924848e-18  2.437679e-17  7.097721   \n",
       "\n",
       "         mFn2        mFn3  \n",
       "0  299.531483  300.524766  "
      ]
     },
     "execution_count": 68,
     "metadata": {},
     "output_type": "execute_result"
    }
   ],
   "source": [
    "xd[['Omega','sv','mv1','mv2','mv3','mFn1','mFn2','mFn3']]"
   ]
  },
  {
   "cell_type": "markdown",
   "metadata": {},
   "source": [
    "### Benchamark point"
   ]
  },
  {
   "cell_type": "code",
   "execution_count": 3,
   "metadata": {},
   "outputs": [],
   "source": [
    "#Read SPheno\n",
    "subprocess.getoutput('cp BP/SPheno.spc.T12B .')\n",
    "so = subprocess.getoutput('cat SPheno.spc.T12B')"
   ]
  },
  {
   "cell_type": "code",
   "execution_count": 4,
   "metadata": {},
   "outputs": [],
   "source": [
    "#run micromegas.\n",
    "mo = subprocess.getoutput('~/Work/micromegas_5.0.4/T12B/./CalcOmega_with_DI_Detection')"
   ]
  },
  {
   "cell_type": "code",
   "execution_count": 5,
   "metadata": {},
   "outputs": [
    {
     "name": "stdout",
     "output_type": "stream",
     "text": [
      "5.1e-26\n"
     ]
    }
   ],
   "source": [
    "sv = eval(mo.split('annihilation cross section')[1].split()[0])\n",
    "print(sv)"
   ]
  },
  {
   "cell_type": "markdown",
   "metadata": {},
   "source": [
    "Anality equation"
   ]
  },
  {
   "cell_type": "markdown",
   "metadata": {},
   "source": [
    "\\begin{align}\n",
    "    \\langle \\sigma v \\rangle =  \\dfrac{1}{32\\pi}\\dfrac{( m_{\\nu_i}^2+m_{\\chi}^2)}{( m_{S_\\alpha}^2+m_{\\chi}^2-m_{\\nu_i}^2)^2}\n",
    "    \\sqrt{1-\\dfrac{m_{\\nu_i}^2}{m_{\\chi}^2}}\\left(f_{\\alpha}^2+h_{\\alpha}^2\\right)^2\\,,\n",
    "\\end{align}"
   ]
  },
  {
   "cell_type": "code",
   "execution_count": 6,
   "metadata": {},
   "outputs": [],
   "source": [
    "YhR11 = eval(so.split('Block YhR1')[1].split()[6])\n",
    "YhR12 = eval(so.split('Block YhR1')[1].split()[10])\n",
    "YhR13 = eval(so.split('Block YhR1')[1].split()[14])\n",
    "\n",
    "YhR21 = eval(so.split('Block YhR2')[1].split()[6])\n",
    "YhR22 = eval(so.split('Block YhR2')[1].split()[10])\n",
    "YhR23 = eval(so.split('Block YhR2')[1].split()[14])\n",
    "\n",
    "YhR31 = eval(so.split('Block YhR3')[1].split()[6])\n",
    "YhR32 = eval(so.split('Block YhR3')[1].split()[10])\n",
    "YhR33 = eval(so.split('Block YhR3')[1].split()[14])\n",
    "\n",
    "YfR11 = eval(so.split('Block YfR1')[1].split()[6])\n",
    "YfR12 = eval(so.split('Block YfR1')[1].split()[10])\n",
    "YfR13 = eval(so.split('Block YfR1')[1].split()[14])\n",
    "\n",
    "YfR21 = eval(so.split('Block YfR2')[1].split()[6])\n",
    "YfR22 = eval(so.split('Block YfR2')[1].split()[10])\n",
    "YfR23 = eval(so.split('Block YfR2')[1].split()[14])\n",
    "\n",
    "YfR31 = eval(so.split('Block YfR3')[1].split()[6])\n",
    "YfR32 = eval(so.split('Block YfR3')[1].split()[10])\n",
    "YfR33 = eval(so.split('Block YfR3')[1].split()[14])"
   ]
  },
  {
   "cell_type": "code",
   "execution_count": 22,
   "metadata": {},
   "outputs": [],
   "source": [
    "mv1 = 2.92969138E-29 \n",
    "mv2 = 5.77928740E-14 \n",
    "mv3 = 1.27525691E-09 \n",
    "\n",
    "ms1 = eval(so.split('Block MASS')[1].split()[13])\n",
    "ms2 = eval(so.split('Block MASS')[1].split()[17])\n",
    "ms3 = eval(so.split('Block MASS')[1].split()[21])\n",
    "\n",
    "mx = eval(so.split('# Fe_3')[1].split()[1])"
   ]
  },
  {
   "cell_type": "code",
   "execution_count": 23,
   "metadata": {},
   "outputs": [],
   "source": [
    "def sigmav(mi,mx,msi,yhi,yfi):\n",
    "    \n",
    "    factor = (1.98)**3/(6.58*1e17)\n",
    "    \n",
    "    sv = (1./(32.*np.pi))*(mi**2+mx**2)/(msi**2+mx**2-mi**2)**2*np.sqrt(1.-(mi/mx)**2)*(yfi**2+yhi**2)**2*factor\n",
    "    \n",
    "    return sv"
   ]
  },
  {
   "cell_type": "code",
   "execution_count": 24,
   "metadata": {},
   "outputs": [
    {
     "data": {
      "text/plain": [
       "3.954323411260879e-31"
      ]
     },
     "execution_count": 24,
     "metadata": {},
     "output_type": "execute_result"
    }
   ],
   "source": [
    "sigmav(mv1,mx,ms1,YhR33,YfR33)"
   ]
  },
  {
   "cell_type": "code",
   "execution_count": 27,
   "metadata": {},
   "outputs": [
    {
     "name": "stdout",
     "output_type": "stream",
     "text": [
      "9.89331826254e-26\n"
     ]
    }
   ],
   "source": [
    "kk =sigmav(mv1,mx,ms1,YhR11,YfR11)+sigmav(mv2,mx,ms1,YhR12,YfR12)+sigmav(mv3,mx,ms1,YhR13,YfR13)+\\\n",
    "sigmav(mv1,mx,ms2,YhR21,YfR21)+sigmav(mv2,mx,ms2,YhR22,YfR22)+sigmav(mv3,mx,ms2,YhR23,YfR23)+\\\n",
    "sigmav(mv1,mx,ms3,YhR31,YfR31)+sigmav(mv2,mx,ms3,YhR32,YfR32)+sigmav(mv3,mx,ms3,YhR33,YfR33)\n",
    "\n",
    "print(kk)"
   ]
  },
  {
   "cell_type": "code",
   "execution_count": 28,
   "metadata": {},
   "outputs": [
    {
     "data": {
      "text/plain": [
       "4.9466591312693172e-26"
      ]
     },
     "execution_count": 28,
     "metadata": {},
     "output_type": "execute_result"
    }
   ],
   "source": [
    "kk/2"
   ]
  },
  {
   "cell_type": "code",
   "execution_count": null,
   "metadata": {},
   "outputs": [],
   "source": []
  },
  {
   "cell_type": "code",
   "execution_count": null,
   "metadata": {},
   "outputs": [],
   "source": []
  },
  {
   "cell_type": "code",
   "execution_count": null,
   "metadata": {},
   "outputs": [],
   "source": []
  }
 ],
 "metadata": {
  "kernelspec": {
   "display_name": "Python 3",
   "language": "python",
   "name": "python3"
  },
  "language_info": {
   "codemirror_mode": {
    "name": "ipython",
    "version": 3
   },
   "file_extension": ".py",
   "mimetype": "text/x-python",
   "name": "python",
   "nbconvert_exporter": "python",
   "pygments_lexer": "ipython3",
   "version": "3.5.3"
  }
 },
 "nbformat": 4,
 "nbformat_minor": 1
}
