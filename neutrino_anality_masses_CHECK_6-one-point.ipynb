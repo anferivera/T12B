{
 "cells": [
  {
   "cell_type": "markdown",
   "metadata": {},
   "source": [
    "# T12B model: neutrino masses"
   ]
  },
  {
   "cell_type": "markdown",
   "metadata": {},
   "source": [
    "The idea is to check the anality expresion for neutrino masses with SPHENO. I will use a benchmark point"
   ]
  },
  {
   "cell_type": "markdown",
   "metadata": {},
   "source": [
    "### Rotation of no hermitian mass matrices"
   ]
  },
  {
   "cell_type": "markdown",
   "metadata": {},
   "source": [
    "Hermitian term:\n",
    "    \n",
    "$\\mathcal{L}_{\\text{mas}} = \\psi^{\\dagger} M \\psi$\n",
    "$\\to$\n",
    "$M_{\\text{diag}}=U^{-1}MU$\n",
    "\n",
    "No hermitian term:\n",
    " \n",
    "$\\mathcal{L}_{\\text{mas}} = \\psi_R^{\\dagger} M \\psi_L = \\psi_1^{\\dagger} M \\psi_2$\n",
    "$\\to$ $\\color{red}{M_{\\text{diag}}^2=V^{-1}MM^TV = U^{-1}M^TMU}$\n"
   ]
  },
  {
   "cell_type": "markdown",
   "metadata": {},
   "source": [
    "ie. the $V$ and $U$ matricess diagonalize the matrices $MM^T$ and $M^TM$ respectively\n",
    "\n",
    "such that: $\\Psi_1^i=V_{ij}\\psi_1^j$ and $\\Psi_2^i=U_{ij}\\psi_2^j$"
   ]
  },
  {
   "cell_type": "code",
   "execution_count": 1,
   "metadata": {},
   "outputs": [],
   "source": [
    "import numpy as np\n",
    "import pandas as pd\n",
    "import subprocess\n",
    "import time\n",
    "\n",
    "%matplotlib inline\n",
    "import matplotlib.pyplot as plt "
   ]
  },
  {
   "cell_type": "code",
   "execution_count": 2,
   "metadata": {},
   "outputs": [],
   "source": [
    "#good plots\n",
    "plt.rcParams.update({'font.size': 18}) \n",
    "#plt.rc('font',size='18')"
   ]
  },
  {
   "cell_type": "code",
   "execution_count": 3,
   "metadata": {},
   "outputs": [],
   "source": [
    "Gf = 1.16637000E-05\n",
    "vevSM = 1./np.sqrt(np.sqrt(2.)*Gf)"
   ]
  },
  {
   "cell_type": "markdown",
   "metadata": {},
   "source": [
    "# Neutrino masses for a benchmark point"
   ]
  },
  {
   "cell_type": "code",
   "execution_count": 4,
   "metadata": {},
   "outputs": [],
   "source": [
    "#!/usr/bin/env python\n",
    "import pyslha\n",
    "import pyT12B_LesHouches_generator\n",
    "import subprocess\n",
    "import sys\n",
    "import NEUTRINO2018\n",
    "import neutrino_analytic3\n",
    "#import Yukawa_fij"
   ]
  },
  {
   "cell_type": "markdown",
   "metadata": {},
   "source": [
    "# Benchmark point"
   ]
  },
  {
   "cell_type": "code",
   "execution_count": 5,
   "metadata": {},
   "outputs": [],
   "source": [
    "L1sm = 1.3e-1 #Warning\n",
    "L61 = 0.\n",
    "L62 = 0.\n",
    "L63 = 0.\n",
    "L71 = 0.\n",
    "L72 = 0.\n",
    "L73 = 0.\n",
    "mu31 = 1.01e6\n",
    "mu32 = 2.01e6\n",
    "mu33 = 1.01e8\n",
    "\n",
    "MN = np.exp(np.random.uniform(np.log(100.),np.log(200.)))\n",
    "MPsi = np.exp(np.random.uniform(np.log(200.),np.log(2000.)))\n",
    "Meta = np.exp(np.random.uniform(np.log(300.),np.log(2000.)))\n",
    "l1 = np.exp(np.random.uniform(np.log(1.0e+3),np.log(1.0e+6)))\n",
    "l2 = np.exp(np.random.uniform(np.log(1.0e+3),np.log(1.0e+6)))\n",
    "y1 = np.exp(np.random.uniform(np.log(1.0e-1),np.log(1.0e-6)))\n",
    "y2 = np.exp(np.random.uniform(np.log(1.0e-1),np.log(1.0e-6)))"
   ]
  },
  {
   "cell_type": "code",
   "execution_count": 6,
   "metadata": {},
   "outputs": [
    {
     "name": "stdout",
     "output_type": "stream",
     "text": [
      "2.75031283839e-06 1.42665811034e-05\n"
     ]
    }
   ],
   "source": [
    "print(y1,y2)"
   ]
  },
  {
   "cell_type": "markdown",
   "metadata": {},
   "source": [
    " Runing firs time"
   ]
  },
  {
   "cell_type": "code",
   "execution_count": 7,
   "metadata": {},
   "outputs": [],
   "source": [
    "#Open for the first time\n",
    "xdict = pyT12B_LesHouches_generator.buildSLHAinFile()\n",
    "\n",
    "# Modific the LesHouches         \n",
    "xdict.blocks['MINPAR'].entries[1]='%.6E    # lambda1Input' %L1sm     \n",
    "xdict.blocks['MINPAR'].entries[2]='%.6E    # lambda61Input' %L61\n",
    "xdict.blocks['MINPAR'].entries[3]='%.6E    # lambda62Input' %L62\n",
    "xdict.blocks['MINPAR'].entries[4]='%.6E    # lambda63Input' %L63\n",
    "xdict.blocks['MINPAR'].entries[5]='%.6E    # lambda71Input' %L71   \n",
    "xdict.blocks['MINPAR'].entries[6]='%.6E    # lambda72Input' %L72   \n",
    "xdict.blocks['MINPAR'].entries[7]='%.6E    # lambda73Input' %L73       \n",
    "xdict.blocks['MINPAR'].entries[8]='%.6E    # mu31Input' %mu31\n",
    "xdict.blocks['MINPAR'].entries[9]='%.6E    # mu32Input' %mu32\n",
    "xdict.blocks['MINPAR'].entries[10]='%.6E    # mu33Input' %mu33\n",
    "\n",
    "xdict.blocks['MKIN'].entries[1]='%.6E    # MK' %1.0e+6\n",
    "\n",
    "xdict.blocks['MNIN'].entries[1]='%.6E    # MN' %MN\n",
    "xdict.blocks['MR1IN'].entries[1]='%.6E    # Mr1' %MPsi\n",
    "xdict.blocks['MR2IN'].entries[1]='%.6E    # Mr2' %Meta\n",
    "xdict.blocks['YLR1IN'].entries[1]='%.6E    # YlR1' %l1\n",
    "xdict.blocks['YLR2IN'].entries[1]='%.6E    # YlR2' %l2\n",
    "xdict.blocks['YYR1IN'].entries[1]='%.6E    # YyR1' %y1\n",
    "xdict.blocks['YYR2IN'].entries[1]='%.6E    # YyR2' %y2\n",
    "\n",
    "#xdict.blocks['SPHENOINPUT'].entries[55]='%.i             # Calculate loop corrected masses' %0\n",
    "\n",
    "#Write the Leshouches file for the first time\n",
    "pyslha.writeSLHAFile('LesHouches.in.T12B_low',xdict)    \n",
    "\n",
    "#run SPheno for the first time\n",
    "spheno = subprocess.getoutput('../.././SPheno-4.0.3/bin/SPhenoT12B LesHouches.in.T12B_low')    \n",
    "SPheno_output = subprocess.getoutput('cat SPheno.spc.T12B')\n",
    "\n",
    "#Spheno to one loop???\n",
    "mmS1 = eval(SPheno_output.split('# Mass spectrum')[1].split()[10])\n",
    "mmS2 = eval(SPheno_output.split('# Mass spectrum')[1].split()[14])\n",
    "mmS3 = eval(SPheno_output.split('# Mass spectrum')[1].split()[18])\n",
    "\n",
    "#Anality to tree level\n",
    "MS1 = np.sqrt(mu31 + L71*vevSM**2/2.)\n",
    "MS2 = np.sqrt(mu32 + L72*vevSM**2/2.)\n",
    "MS3 = np.sqrt(mu33 + L73*vevSM**2/2.)\n",
    "#print(MS1,MS2,MS3)\n",
    "\n",
    "mx1 = eval(SPheno_output.split('Fe_3')[1].split()[1])\n",
    "mx2 = eval(SPheno_output.split('Fe_3')[1].split()[5])\n",
    "mx3 = eval(SPheno_output.split('Fe_3')[1].split()[9])\n",
    "\n",
    "U11 = eval(SPheno_output.split('Block LNEUTROMIX')[1].split()[6])\n",
    "U12 = eval(SPheno_output.split('Block LNEUTROMIX')[1].split()[11])\n",
    "U13 = eval(SPheno_output.split('Block LNEUTROMIX')[1].split()[16])\n",
    "U21 = eval(SPheno_output.split('Block LNEUTROMIX')[1].split()[21])\n",
    "U22 = eval(SPheno_output.split('Block LNEUTROMIX')[1].split()[26])\n",
    "U23 = eval(SPheno_output.split('Block LNEUTROMIX')[1].split()[31])\n",
    "U31 = eval(SPheno_output.split('Block LNEUTROMIX')[1].split()[36])\n",
    "U32 = eval(SPheno_output.split('Block LNEUTROMIX')[1].split()[41])\n",
    "U33 = eval(SPheno_output.split('Block LNEUTROMIX')[1].split()[46])\n",
    "\n",
    "V11 = eval(SPheno_output.split('Block RNEUTROMIX')[1].split()[6])\n",
    "V12 = eval(SPheno_output.split('Block RNEUTROMIX')[1].split()[11])\n",
    "V13 = eval(SPheno_output.split('Block RNEUTROMIX')[1].split()[16])\n",
    "V21 = eval(SPheno_output.split('Block RNEUTROMIX')[1].split()[21])\n",
    "V22 = eval(SPheno_output.split('Block RNEUTROMIX')[1].split()[26])\n",
    "V23 = eval(SPheno_output.split('Block RNEUTROMIX')[1].split()[31])\n",
    "V31 = eval(SPheno_output.split('Block RNEUTROMIX')[1].split()[36])\n",
    "V32 = eval(SPheno_output.split('Block RNEUTROMIX')[1].split()[41])\n",
    "V33 = eval(SPheno_output.split('Block RNEUTROMIX')[1].split()[46])\n",
    "\n",
    "L1 = neutrino_analytic3.LAMBDA(mx1, MS1, V21, U11) + neutrino_analytic3.LAMBDA(mx2, MS1, V22, U21) +\\\n",
    "        neutrino_analytic3.LAMBDA(mx3, MS1, V32, U31)\n",
    "\n",
    "L2 = neutrino_analytic3.LAMBDA(mx1, MS2, V21, U11) + neutrino_analytic3.LAMBDA(mx2, MS2, V22, U21) +\\\n",
    "        neutrino_analytic3.LAMBDA(mx3, MS2, V32, U31) \n",
    "\n",
    "L3 = neutrino_analytic3.LAMBDA(mx1, MS3, V21, U11) + neutrino_analytic3.LAMBDA(mx2, MS3, V22, U21) +\\\n",
    "        neutrino_analytic3.LAMBDA(mx3, MS3, V32, U31) \n",
    "\n",
    "\n",
    "Linv = np.array([[1./L1 ,0.,0],[0.,1./L2,0.],[0.,0.,1./L3]])"
   ]
  },
  {
   "cell_type": "code",
   "execution_count": 8,
   "metadata": {},
   "outputs": [
    {
     "name": "stdout",
     "output_type": "stream",
     "text": [
      "955.807552 1417.50121 10049.8467\n",
      "1004.98756211 1417.74468788 10049.8756211\n",
      "111.256 17157.1335 72492.7144\n"
     ]
    }
   ],
   "source": [
    "print(mmS1,mmS2,mmS3)\n",
    "print(MS1,MS2,MS3)\n",
    "print(mx1,mx2,mx3)"
   ]
  },
  {
   "cell_type": "code",
   "execution_count": 9,
   "metadata": {},
   "outputs": [],
   "source": [
    "def ran_num():\n",
    "    \n",
    "    return np.exp(np.random.uniform(np.log(1.*10**(-4)),np.log(10**(0))))\n",
    "\n",
    "#H random matrix\n",
    "def h():\n",
    "    h = np.array([[ran_num(),ran_num(),ran_num()],\n",
    "                  [ran_num(),ran_num(),ran_num()],\n",
    "                  [ran_num(),ran_num(),ran_num()]])\n",
    "    \n",
    "    return h"
   ]
  },
  {
   "cell_type": "code",
   "execution_count": 10,
   "metadata": {},
   "outputs": [],
   "source": [
    "h = h()"
   ]
  },
  {
   "cell_type": "code",
   "execution_count": 11,
   "metadata": {},
   "outputs": [
    {
     "data": {
      "text/plain": [
       "array([[  1.05836861e-01,   2.13310431e-04,   2.87824998e-01],\n",
       "       [  7.17679930e-02,   1.03595325e-01,   5.84249351e-02],\n",
       "       [  6.38272630e-02,   1.33644557e-03,   1.66024001e-03]])"
      ]
     },
     "execution_count": 11,
     "metadata": {},
     "output_type": "execute_result"
    }
   ],
   "source": [
    "h"
   ]
  },
  {
   "cell_type": "code",
   "execution_count": 12,
   "metadata": {},
   "outputs": [
    {
     "data": {
      "text/plain": [
       "array([[ -0.05035887,  -0.20608084,  15.98250944],\n",
       "       [ -1.93579444,   9.75705349,  -7.76103684],\n",
       "       [  3.49428561,   0.06854744,  -5.87121733]])"
      ]
     },
     "execution_count": 12,
     "metadata": {},
     "output_type": "execute_result"
    }
   ],
   "source": [
    "hinv = np.linalg.inv(h)\n",
    "hinv"
   ]
  },
  {
   "cell_type": "code",
   "execution_count": 13,
   "metadata": {},
   "outputs": [
    {
     "data": {
      "text/plain": [
       "array([[  1.00000000e+00,   0.00000000e+00,   0.00000000e+00],\n",
       "       [  5.55111512e-17,   1.00000000e+00,  -1.66533454e-16],\n",
       "       [  2.86229374e-17,  -7.86046575e-19,   1.00000000e+00]])"
      ]
     },
     "execution_count": 13,
     "metadata": {},
     "output_type": "execute_result"
    }
   ],
   "source": [
    "np.dot(h,hinv)"
   ]
  },
  {
   "cell_type": "code",
   "execution_count": 14,
   "metadata": {},
   "outputs": [],
   "source": [
    "#PMNS matrix 2018 to 3\\sigma https://arxiv.org/abs/1708.01186\n",
    "\n",
    "#phases of the PMNS matrix and the R \n",
    "phases1 = np.random.uniform(0.,0.0*np.pi,3) # WARNING! They are in zero\n",
    "delta = phases1[0]\n",
    "eta1 = phases1[1]\n",
    "eta2 = phases1[2]\n",
    "\n",
    "#light neutrino masses (up 3 sigma range) NH (NO)\n",
    "#mnu1 = 10**((np.log10(2.5e-3)-np.log10(1e-9))*np.random.uniform(0,1)+np.log10(1e-9))*1e-9 \n",
    "#Zero in this framework\n",
    "mnu1 = 1.0e-20\n",
    "mnu2 = np.sqrt(np.random.uniform(7.05e-5,8.14e-5)*1.0e-18+mnu1**2)\n",
    "mnu3 = np.sqrt(np.random.uniform(2.41e-3,2.60e-3)*1.0e-18+mnu1**2)\n",
    "\n",
    "#mixing angles (up 3 sigma range) NH\n",
    "t12 = np.arcsin(np.sqrt(np.random.uniform(0.273,0.379)))\n",
    "t23 = np.arcsin(np.sqrt(np.random.uniform(0.445,0.599)))\n",
    "t13 = np.arcsin(np.sqrt(np.random.uniform(0.0196,0.0241)))\n",
    "\n",
    "#Building PMNS matrix NH\n",
    "UM12 = np.array([ [np.cos(t12),np.sin(t12),0.], [-np.sin(t12),np.cos(t12),0.], [0.,0.,1.0] ])\n",
    "UM13 = np.array([ [np.cos(t13),0.,np.sin(t13)], [0.,1.0,0.], [-np.sin(t13),0.,np.cos(t13)] ])\n",
    "UM23 = np.array([ [1.0,0.,0.], [0.,np.cos(t23),np.sin(t23)], [0.,-np.sin(t23),np.cos(t23)] ])\n",
    "Uphases = np.array([ [np.exp(eta1*1j),0.,0.], [0.,np.exp(eta2*1j),0.], [0.,0.,1.0] ])\n",
    "P=np.dot(UM23,np.dot(UM13,np.dot(UM12,Uphases))).real"
   ]
  },
  {
   "cell_type": "code",
   "execution_count": 15,
   "metadata": {},
   "outputs": [
    {
     "name": "stdout",
     "output_type": "stream",
     "text": [
      "mnu1= 1e-20 mnu2= 8.93774765458e-12 mnu3= 5.03522433287e-11\n",
      "[[ 0.79756022  0.58662021  0.14062159]\n",
      " [-0.46852681  0.45555304  0.75693729]\n",
      " [ 0.37997412 -0.66958805  0.63817827]]\n"
     ]
    }
   ],
   "source": [
    "print(\"mnu1=\",mnu1,\"mnu2=\",mnu2,\"mnu3=\",mnu3)\n",
    "print(P)"
   ]
  },
  {
   "cell_type": "markdown",
   "metadata": {},
   "source": [
    "\\begin{align}\n",
    "f = \\sqrt{D}R\\sqrt{D}U_{{\\rm PMNS}}^T\\left(h^{-1}\\right)^T\\Lambda^{-1}\\;,\n",
    "\\end{align}"
   ]
  },
  {
   "cell_type": "code",
   "execution_count": 16,
   "metadata": {},
   "outputs": [
    {
     "data": {
      "text/plain": [
       "array([[  1.00000000e-10,   0.00000000e+00,   0.00000000e+00],\n",
       "       [  0.00000000e+00,   2.98960661e-06,   0.00000000e+00],\n",
       "       [  0.00000000e+00,   0.00000000e+00,   7.09593146e-06]])"
      ]
     },
     "execution_count": 16,
     "metadata": {},
     "output_type": "execute_result"
    }
   ],
   "source": [
    "D = np.array([[np.sqrt(mnu1),0.,0.],\n",
    "              [0.,np.sqrt(mnu2),0.],[0.,0.,np.sqrt(mnu3)]])\n",
    "D"
   ]
  },
  {
   "cell_type": "code",
   "execution_count": 17,
   "metadata": {},
   "outputs": [],
   "source": [
    "R = np.array([[0.,0.,0.],\n",
    "                  [0.,1.,0.],\n",
    "                  [0.,0.,1.]])"
   ]
  },
  {
   "cell_type": "code",
   "execution_count": 18,
   "metadata": {},
   "outputs": [
    {
     "data": {
      "text/plain": [
       "array([[  0.00000000e+00,   0.00000000e+00,   0.00000000e+00],\n",
       "       [ -8.28317858e-05,   6.44591564e-05,   4.50974953e-05],\n",
       "       [  4.32655742e-04,   9.22301409e-05,  -1.35375836e-04]])"
      ]
     },
     "execution_count": 18,
     "metadata": {},
     "output_type": "execute_result"
    }
   ],
   "source": [
    "f = np.dot(np.dot(np.dot(np.dot(np.dot(D,R),D),np.transpose(P)),np.transpose(hinv)),Linv)\n",
    "f"
   ]
  },
  {
   "cell_type": "code",
   "execution_count": 19,
   "metadata": {},
   "outputs": [],
   "source": [
    "#ALGORITM:\n",
    "f11 = f[0,0]\n",
    "f21 = f[1,0]\n",
    "f31 = f[2,0]\n",
    "\n",
    "f12 = f[0,1]\n",
    "f22 = f[1,1]\n",
    "f32 = f[2,1]\n",
    "\n",
    "f13 = f[0,2]    \n",
    "f23 = f[1,2]\n",
    "f33 = f[2,2]\n",
    "\n",
    "h11 = h[0,0]\n",
    "h21 = h[1,0]\n",
    "h31 = h[2,0]\n",
    "\n",
    "h12 = h[0,1]\n",
    "h22 = h[1,1]\n",
    "h32 = h[2,1]\n",
    "\n",
    "h13 = h[0,2]\n",
    "h23 = h[1,2]\n",
    "h33 = h[2,2]"
   ]
  },
  {
   "cell_type": "code",
   "execution_count": 20,
   "metadata": {},
   "outputs": [],
   "source": [
    "x = []\n",
    "\n",
    "#Open for the second time\n",
    "xdict = pyT12B_LesHouches_generator.buildSLHAinFile()\n",
    "\n",
    "# Modific the LesHouches         \n",
    "xdict.blocks['MINPAR'].entries[1]='%.6E    # lambda1Input' %L1sm     \n",
    "xdict.blocks['MINPAR'].entries[2]='%.6E    # lambda61Input' %L61\n",
    "xdict.blocks['MINPAR'].entries[3]='%.6E    # lambda62Input' %L62\n",
    "xdict.blocks['MINPAR'].entries[4]='%.6E    # lambda63Input' %L63\n",
    "xdict.blocks['MINPAR'].entries[5]='%.6E    # lambda71Input' %L71   \n",
    "xdict.blocks['MINPAR'].entries[6]='%.6E    # lambda72Input' %L72   \n",
    "xdict.blocks['MINPAR'].entries[7]='%.6E    # lambda73Input' %L73       \n",
    "xdict.blocks['MINPAR'].entries[8]='%.6E    # mu31Input' %mu31\n",
    "xdict.blocks['MINPAR'].entries[9]='%.6E    # mu32Input' %mu32\n",
    "xdict.blocks['MINPAR'].entries[10]='%.6E    # mu33Input' %mu33\n",
    "\n",
    "xdict.blocks['MKIN'].entries[1]='%.6E    # MK' %1.0e+6\n",
    "\n",
    "xdict.blocks['MNIN'].entries[1]='%.6E    # MN' %MN\n",
    "xdict.blocks['MR1IN'].entries[1]='%.6E    # Mr1' %MPsi\n",
    "xdict.blocks['MR2IN'].entries[1]='%.6E    # Mr2' %Meta\n",
    "xdict.blocks['YLR1IN'].entries[1]='%.6E    # YlR1' %l1\n",
    "xdict.blocks['YLR2IN'].entries[1]='%.6E    # YlR2' %l2\n",
    "xdict.blocks['YYR1IN'].entries[1]='%.6E    # YyR1' %y1\n",
    "xdict.blocks['YYR2IN'].entries[1]='%.6E    # YyR2' %y2\n",
    "\n",
    "xdict.blocks['YHR1IN'].entries[1]='%.6E    # YhR1(1)' %h11 \n",
    "xdict.blocks['YHR1IN'].entries[2]='%.6E    # YhR1(2)' %h21\n",
    "xdict.blocks['YHR1IN'].entries[3]='%.6E    # YhR1(3)' %h31\n",
    "\n",
    "xdict.blocks['YHR2IN'].entries[1]='%.6E    # YhR2(1)' %h12 \n",
    "xdict.blocks['YHR2IN'].entries[2]='%.6E    # YhR2(2)' %h22\n",
    "xdict.blocks['YHR2IN'].entries[3]='%.6E    # YhR2(3)' %h32\n",
    "\n",
    "xdict.blocks['YHR3IN'].entries[1]='%.6E    # YhR3(1)' %h13 \n",
    "xdict.blocks['YHR3IN'].entries[2]='%.6E    # YhR3(2)' %h23\n",
    "xdict.blocks['YHR3IN'].entries[3]='%.6E    # YhR3(3)' %h33\n",
    "\n",
    "xdict.blocks['YFR1IN'].entries[1]='%.6E    # YfR1(1)' %f11 \n",
    "xdict.blocks['YFR1IN'].entries[2]='%.6E    # YfR1(2)' %f21\n",
    "xdict.blocks['YFR1IN'].entries[3]='%.6E    # YfR1(3)' %f31\n",
    "\n",
    "xdict.blocks['YFR2IN'].entries[1]='%.6E    # YfR2(1)' %f12 \n",
    "xdict.blocks['YFR2IN'].entries[2]='%.6E    # YfR2(2)' %f22\n",
    "xdict.blocks['YFR2IN'].entries[3]='%.6E    # YfR2(3)' %f32\n",
    "\n",
    "xdict.blocks['YFR3IN'].entries[1]='%.6E    # YfR3(1)' %f13 \n",
    "xdict.blocks['YFR3IN'].entries[2]='%.6E    # YfR3(2)' %f23\n",
    "xdict.blocks['YFR3IN'].entries[3]='%.6E    # YfR3(3)' %f33\n",
    "\n",
    "#Write the Leshouches file for the second time\n",
    "pyslha.writeSLHAFile('LesHouches.in.T12B_low',xdict)    \n",
    "\n",
    "#run SPheno for the second time\n",
    "spheno = subprocess.getoutput('../.././SPheno-4.0.3/bin/SPhenoT12B LesHouches.in.T12B_low')    \n",
    "SPheno_output = subprocess.getoutput('cat SPheno.spc.T12B')\n",
    "\n",
    "#Spheno to one loop???\n",
    "MS1 = eval(SPheno_output.split('# Mass spectrum')[1].split()[10])\n",
    "MS2 = eval(SPheno_output.split('# Mass spectrum')[1].split()[14])\n",
    "MS3 = eval(SPheno_output.split('# Mass spectrum')[1].split()[18])\n",
    "\n",
    "#Anality to tree level\n",
    "#MS1 = np.sqrt(mu31 + L71*vevSM**2/2.)\n",
    "#MS2 = np.sqrt(mu32 + L72*vevSM**2/2.)\n",
    "#MS3 = np.sqrt(mu33 + L73*vevSM**2/2.)\n",
    "\n",
    "mx1 = eval(SPheno_output.split('Fe_3')[1].split()[1])\n",
    "mx2 = eval(SPheno_output.split('Fe_3')[1].split()[5])\n",
    "mx3 = eval(SPheno_output.split('Fe_3')[1].split()[9])\n",
    "\n",
    "U11 = eval(SPheno_output.split('Block LNEUTROMIX')[1].split()[6])\n",
    "U12 = eval(SPheno_output.split('Block LNEUTROMIX')[1].split()[11])\n",
    "U13 = eval(SPheno_output.split('Block LNEUTROMIX')[1].split()[16])\n",
    "U21 = eval(SPheno_output.split('Block LNEUTROMIX')[1].split()[21])\n",
    "U22 = eval(SPheno_output.split('Block LNEUTROMIX')[1].split()[26])\n",
    "U23 = eval(SPheno_output.split('Block LNEUTROMIX')[1].split()[31])\n",
    "U31 = eval(SPheno_output.split('Block LNEUTROMIX')[1].split()[36])\n",
    "U32 = eval(SPheno_output.split('Block LNEUTROMIX')[1].split()[41])\n",
    "U33 = eval(SPheno_output.split('Block LNEUTROMIX')[1].split()[46])\n",
    "\n",
    "V11 = eval(SPheno_output.split('Block RNEUTROMIX')[1].split()[6])\n",
    "V12 = eval(SPheno_output.split('Block RNEUTROMIX')[1].split()[11])\n",
    "V13 = eval(SPheno_output.split('Block RNEUTROMIX')[1].split()[16])\n",
    "V21 = eval(SPheno_output.split('Block RNEUTROMIX')[1].split()[21])\n",
    "V22 = eval(SPheno_output.split('Block RNEUTROMIX')[1].split()[26])\n",
    "V23 = eval(SPheno_output.split('Block RNEUTROMIX')[1].split()[31])\n",
    "V31 = eval(SPheno_output.split('Block RNEUTROMIX')[1].split()[36])\n",
    "V32 = eval(SPheno_output.split('Block RNEUTROMIX')[1].split()[41])\n",
    "V33 = eval(SPheno_output.split('Block RNEUTROMIX')[1].split()[46])\n",
    "\n",
    "##++++++++++ Neutrinos +++++++++++++++++++++++++++++++++\n",
    "if SPheno_output.split('# Fk')[1].split()[1] == \"NaN\":\n",
    "    mv1 = 0.\n",
    "else: \n",
    "    mv1 = eval(SPheno_output.split('# Fk')[1].split()[1])           \n",
    "mv2 = eval(SPheno_output.split('# Fk')[1].split()[5])       \n",
    "mv3 = eval(SPheno_output.split('# Fk')[1].split()[9])  \n",
    "\n",
    "x.append([L1,L61,L71,L72,L73,mu31,mu32,mu33,MN,MPsi,Meta,l1,l2,y1,y2,h11,h21,h31,h12,h22,h32,h13,h23,h33,f11,f21,f31,\\\n",
    "          f12,f22,f32,f13,f23,f33,mv1,mv2,mv3,MS1,MS2,MS3,mx1,mx2,mx3,V11,V12,V13,V21,V22,V23,V31,V32,V33,\\\n",
    "          U11,U12,U13,U21,U22,U23,U31,U32,U33])\n",
    "\n",
    "x=np.asarray(x)\n",
    "    \n",
    "xd=pd.DataFrame(x,columns=['L1','L61','L71','L72','L73','mu31','mu32','mu33','MN','MPsi','Meta','l1','l2','y1','y2',\\\n",
    "                           'h11','h21','h31','h12','h22','h32','h13','h23','h33','f11','f21','f31','f12','f22',\\\n",
    "                           'f32','f13','f23','f33','mv1','mv2','mv3','MS1','MS2','MS3','mx1','mx2','mx3',\\\n",
    "                           'V11','V12','V13','V21','V22','V23','V31','V32','V33','U11','U12','U13','U21',\\\n",
    "                           'U22','U23','U31','U32','U33'])       "
   ]
  },
  {
   "cell_type": "code",
   "execution_count": 21,
   "metadata": {},
   "outputs": [
    {
     "name": "stdout",
     "output_type": "stream",
     "text": [
      "EXPERIMENTAL:\n",
      "mnu2= 8.93774765458e-12 mnu3= 5.03522433287e-11\n",
      "===============================================\n",
      "SPHENO:\n",
      "mv2= 3.43353371e-12 mv3= 2.80921495e-11\n",
      "===============================================\n"
     ]
    }
   ],
   "source": [
    "print(\"EXPERIMENTAL:\")\n",
    "print(\"mnu2=\",mnu2,\"mnu3=\",mnu3)\n",
    "print(\"===============================================\")\n",
    "print(\"SPHENO:\")\n",
    "print(\"mv2=\",mv2,\"mv3=\",mv3)\n",
    "print(\"===============================================\")"
   ]
  },
  {
   "cell_type": "code",
   "execution_count": 22,
   "metadata": {},
   "outputs": [
    {
     "name": "stdout",
     "output_type": "stream",
     "text": [
      "2.60307555116 1.79239553487\n"
     ]
    }
   ],
   "source": [
    "#Factor\n",
    "print(mnu2/mv2,mnu3/mv3)"
   ]
  },
  {
   "cell_type": "code",
   "execution_count": 23,
   "metadata": {},
   "outputs": [
    {
     "data": {
      "text/plain": [
       "0.0"
      ]
     },
     "execution_count": 23,
     "metadata": {},
     "output_type": "execute_result"
    }
   ],
   "source": [
    "xd.MS1[0]"
   ]
  },
  {
   "cell_type": "code",
   "execution_count": 24,
   "metadata": {},
   "outputs": [
    {
     "name": "stderr",
     "output_type": "stream",
     "text": [
      "/home/anferivera/Work/Documents_compartidos/T12B/neutrino_analytic3.py:15: RuntimeWarning: divide by zero encountered in log\n",
      "  Lji = 1./(16.*np.pi**2)*Vj2*Uj1*mj*( (mj**2*np.log(mj**2) - mSi**2*np.log(mSi**2))/(mj**2-mSi**2))\n",
      "/home/anferivera/Work/Documents_compartidos/T12B/neutrino_analytic3.py:15: RuntimeWarning: invalid value encountered in double_scalars\n",
      "  Lji = 1./(16.*np.pi**2)*Vj2*Uj1*mj*( (mj**2*np.log(mj**2) - mSi**2*np.log(mSi**2))/(mj**2-mSi**2))\n"
     ]
    },
    {
     "ename": "LinAlgError",
     "evalue": "Array must not contain infs or NaNs",
     "output_type": "error",
     "traceback": [
      "\u001b[0;31m---------------------------------------------------------------------------\u001b[0m",
      "\u001b[0;31mLinAlgError\u001b[0m                               Traceback (most recent call last)",
      "\u001b[0;32m<ipython-input-24-dd1bd10c8607>\u001b[0m in \u001b[0;36m<module>\u001b[0;34m\u001b[0m\n\u001b[1;32m      3\u001b[0m                     \u001b[0mxd\u001b[0m\u001b[0;34m.\u001b[0m\u001b[0mf11\u001b[0m\u001b[0;34m[\u001b[0m\u001b[0;36m0\u001b[0m\u001b[0;34m]\u001b[0m\u001b[0;34m,\u001b[0m\u001b[0mxd\u001b[0m\u001b[0;34m.\u001b[0m\u001b[0mf12\u001b[0m\u001b[0;34m[\u001b[0m\u001b[0;36m0\u001b[0m\u001b[0;34m]\u001b[0m\u001b[0;34m,\u001b[0m\u001b[0mxd\u001b[0m\u001b[0;34m.\u001b[0m\u001b[0mf13\u001b[0m\u001b[0;34m[\u001b[0m\u001b[0;36m0\u001b[0m\u001b[0;34m]\u001b[0m\u001b[0;34m,\u001b[0m\u001b[0mxd\u001b[0m\u001b[0;34m.\u001b[0m\u001b[0mf21\u001b[0m\u001b[0;34m[\u001b[0m\u001b[0;36m0\u001b[0m\u001b[0;34m]\u001b[0m\u001b[0;34m,\u001b[0m\u001b[0mxd\u001b[0m\u001b[0;34m.\u001b[0m\u001b[0mf22\u001b[0m\u001b[0;34m[\u001b[0m\u001b[0;36m0\u001b[0m\u001b[0;34m]\u001b[0m\u001b[0;34m,\u001b[0m\u001b[0mxd\u001b[0m\u001b[0;34m.\u001b[0m\u001b[0mf23\u001b[0m\u001b[0;34m[\u001b[0m\u001b[0;36m0\u001b[0m\u001b[0;34m]\u001b[0m\u001b[0;34m,\u001b[0m\u001b[0mxd\u001b[0m\u001b[0;34m.\u001b[0m\u001b[0mf31\u001b[0m\u001b[0;34m[\u001b[0m\u001b[0;36m0\u001b[0m\u001b[0;34m]\u001b[0m\u001b[0;34m,\u001b[0m\u001b[0mxd\u001b[0m\u001b[0;34m.\u001b[0m\u001b[0mf32\u001b[0m\u001b[0;34m[\u001b[0m\u001b[0;36m0\u001b[0m\u001b[0;34m]\u001b[0m\u001b[0;34m,\u001b[0m\u001b[0mxd\u001b[0m\u001b[0;34m.\u001b[0m\u001b[0mf33\u001b[0m\u001b[0;34m[\u001b[0m\u001b[0;36m0\u001b[0m\u001b[0;34m]\u001b[0m\u001b[0;34m,\u001b[0m\u001b[0;31m\\\u001b[0m\u001b[0;34m\u001b[0m\u001b[0m\n\u001b[1;32m      4\u001b[0m                     \u001b[0mxd\u001b[0m\u001b[0;34m.\u001b[0m\u001b[0mMS1\u001b[0m\u001b[0;34m[\u001b[0m\u001b[0;36m0\u001b[0m\u001b[0;34m]\u001b[0m\u001b[0;34m,\u001b[0m\u001b[0mxd\u001b[0m\u001b[0;34m.\u001b[0m\u001b[0mMS2\u001b[0m\u001b[0;34m[\u001b[0m\u001b[0;36m0\u001b[0m\u001b[0;34m]\u001b[0m\u001b[0;34m,\u001b[0m\u001b[0mxd\u001b[0m\u001b[0;34m.\u001b[0m\u001b[0mMS3\u001b[0m\u001b[0;34m[\u001b[0m\u001b[0;36m0\u001b[0m\u001b[0;34m]\u001b[0m\u001b[0;34m,\u001b[0m\u001b[0mxd\u001b[0m\u001b[0;34m.\u001b[0m\u001b[0mmx1\u001b[0m\u001b[0;34m[\u001b[0m\u001b[0;36m0\u001b[0m\u001b[0;34m]\u001b[0m\u001b[0;34m,\u001b[0m\u001b[0mxd\u001b[0m\u001b[0;34m.\u001b[0m\u001b[0mmx2\u001b[0m\u001b[0;34m[\u001b[0m\u001b[0;36m0\u001b[0m\u001b[0;34m]\u001b[0m\u001b[0;34m,\u001b[0m\u001b[0mxd\u001b[0m\u001b[0;34m.\u001b[0m\u001b[0mmx3\u001b[0m\u001b[0;34m[\u001b[0m\u001b[0;36m0\u001b[0m\u001b[0;34m]\u001b[0m\u001b[0;34m,\u001b[0m\u001b[0mxd\u001b[0m\u001b[0;34m.\u001b[0m\u001b[0mV12\u001b[0m\u001b[0;34m[\u001b[0m\u001b[0;36m0\u001b[0m\u001b[0;34m]\u001b[0m\u001b[0;34m,\u001b[0m\u001b[0mxd\u001b[0m\u001b[0;34m.\u001b[0m\u001b[0mV22\u001b[0m\u001b[0;34m[\u001b[0m\u001b[0;36m0\u001b[0m\u001b[0;34m]\u001b[0m\u001b[0;34m,\u001b[0m\u001b[0mxd\u001b[0m\u001b[0;34m.\u001b[0m\u001b[0mV32\u001b[0m\u001b[0;34m[\u001b[0m\u001b[0;36m0\u001b[0m\u001b[0;34m]\u001b[0m\u001b[0;34m,\u001b[0m\u001b[0;31m\\\u001b[0m\u001b[0;34m\u001b[0m\u001b[0m\n\u001b[0;32m----> 5\u001b[0;31m                     xd.U11[0],xd.U21[0],xd.U31[0])\n\u001b[0m",
      "\u001b[0;32m~/Work/Documents_compartidos/T12B/neutrino_analytic3.py\u001b[0m in \u001b[0;36mMATRIX_NU_DIAG\u001b[0;34m(h11, h12, h13, h21, h22, h23, h31, h32, h33, f11, f12, f13, f21, f22, f23, f31, f32, f33, ms1, ms2, ms3, m1, m2, m3, V12, V22, V32, U11, U21, U31)\u001b[0m\n\u001b[1;32m     51\u001b[0m \u001b[0;34m\u001b[0m\u001b[0m\n\u001b[1;32m     52\u001b[0m     \u001b[0;31m#eigenvalues e eigenvectors\u001b[0m\u001b[0;34m\u001b[0m\u001b[0;34m\u001b[0m\u001b[0m\n\u001b[0;32m---> 53\u001b[0;31m     \u001b[0;34m(\u001b[0m\u001b[0mMdiag2\u001b[0m\u001b[0;34m,\u001b[0m\u001b[0mV\u001b[0m\u001b[0;34m)\u001b[0m\u001b[0;34m=\u001b[0m\u001b[0mnp\u001b[0m\u001b[0;34m.\u001b[0m\u001b[0mlinalg\u001b[0m\u001b[0;34m.\u001b[0m\u001b[0meig\u001b[0m\u001b[0;34m(\u001b[0m\u001b[0mMvij\u001b[0m\u001b[0;34m*\u001b[0m\u001b[0mnp\u001b[0m\u001b[0;34m.\u001b[0m\u001b[0mtranspose\u001b[0m\u001b[0;34m(\u001b[0m\u001b[0mMvij\u001b[0m\u001b[0;34m)\u001b[0m\u001b[0;34m)\u001b[0m\u001b[0;34m\u001b[0m\u001b[0m\n\u001b[0m\u001b[1;32m     54\u001b[0m \u001b[0;34m\u001b[0m\u001b[0m\n\u001b[1;32m     55\u001b[0m     \u001b[0;31m#took eigenvalues\u001b[0m\u001b[0;34m\u001b[0m\u001b[0;34m\u001b[0m\u001b[0m\n",
      "\u001b[0;32m/usr/lib/python3/dist-packages/numpy/linalg/linalg.py\u001b[0m in \u001b[0;36meig\u001b[0;34m(a)\u001b[0m\n\u001b[1;32m   1141\u001b[0m     \u001b[0m_assertRankAtLeast2\u001b[0m\u001b[0;34m(\u001b[0m\u001b[0ma\u001b[0m\u001b[0;34m)\u001b[0m\u001b[0;34m\u001b[0m\u001b[0m\n\u001b[1;32m   1142\u001b[0m     \u001b[0m_assertNdSquareness\u001b[0m\u001b[0;34m(\u001b[0m\u001b[0ma\u001b[0m\u001b[0;34m)\u001b[0m\u001b[0;34m\u001b[0m\u001b[0m\n\u001b[0;32m-> 1143\u001b[0;31m     \u001b[0m_assertFinite\u001b[0m\u001b[0;34m(\u001b[0m\u001b[0ma\u001b[0m\u001b[0;34m)\u001b[0m\u001b[0;34m\u001b[0m\u001b[0m\n\u001b[0m\u001b[1;32m   1144\u001b[0m     \u001b[0mt\u001b[0m\u001b[0;34m,\u001b[0m \u001b[0mresult_t\u001b[0m \u001b[0;34m=\u001b[0m \u001b[0m_commonType\u001b[0m\u001b[0;34m(\u001b[0m\u001b[0ma\u001b[0m\u001b[0;34m)\u001b[0m\u001b[0;34m\u001b[0m\u001b[0m\n\u001b[1;32m   1145\u001b[0m \u001b[0;34m\u001b[0m\u001b[0m\n",
      "\u001b[0;32m/usr/lib/python3/dist-packages/numpy/linalg/linalg.py\u001b[0m in \u001b[0;36m_assertFinite\u001b[0;34m(*arrays)\u001b[0m\n\u001b[1;32m    215\u001b[0m     \u001b[0;32mfor\u001b[0m \u001b[0ma\u001b[0m \u001b[0;32min\u001b[0m \u001b[0marrays\u001b[0m\u001b[0;34m:\u001b[0m\u001b[0;34m\u001b[0m\u001b[0m\n\u001b[1;32m    216\u001b[0m         \u001b[0;32mif\u001b[0m \u001b[0;32mnot\u001b[0m \u001b[0;34m(\u001b[0m\u001b[0misfinite\u001b[0m\u001b[0;34m(\u001b[0m\u001b[0ma\u001b[0m\u001b[0;34m)\u001b[0m\u001b[0;34m.\u001b[0m\u001b[0mall\u001b[0m\u001b[0;34m(\u001b[0m\u001b[0;34m)\u001b[0m\u001b[0;34m)\u001b[0m\u001b[0;34m:\u001b[0m\u001b[0;34m\u001b[0m\u001b[0m\n\u001b[0;32m--> 217\u001b[0;31m             \u001b[0;32mraise\u001b[0m \u001b[0mLinAlgError\u001b[0m\u001b[0;34m(\u001b[0m\u001b[0;34m\"Array must not contain infs or NaNs\"\u001b[0m\u001b[0;34m)\u001b[0m\u001b[0;34m\u001b[0m\u001b[0m\n\u001b[0m\u001b[1;32m    218\u001b[0m \u001b[0;34m\u001b[0m\u001b[0m\n\u001b[1;32m    219\u001b[0m \u001b[0;32mdef\u001b[0m \u001b[0m_assertNoEmpty2d\u001b[0m\u001b[0;34m(\u001b[0m\u001b[0;34m*\u001b[0m\u001b[0marrays\u001b[0m\u001b[0;34m)\u001b[0m\u001b[0;34m:\u001b[0m\u001b[0;34m\u001b[0m\u001b[0m\n",
      "\u001b[0;31mLinAlgError\u001b[0m: Array must not contain infs or NaNs"
     ]
    }
   ],
   "source": [
    "#run anality\n",
    "MM = neutrino_analytic3.MATRIX_NU_DIAG(xd.h11[0],xd.h12[0],xd.h13[0],xd.h21[0],xd.h22[0],xd.h23[0],xd.h31[0],xd.h32[0],xd.h33[0],\\\n",
    "                    xd.f11[0],xd.f12[0],xd.f13[0],xd.f21[0],xd.f22[0],xd.f23[0],xd.f31[0],xd.f32[0],xd.f33[0],\\\n",
    "                    xd.MS1[0],xd.MS2[0],xd.MS3[0],xd.mx1[0],xd.mx2[0],xd.mx3[0],xd.V12[0],xd.V22[0],xd.V32[0],\\\n",
    "                    xd.U11[0],xd.U21[0],xd.U31[0])"
   ]
  },
  {
   "cell_type": "code",
   "execution_count": null,
   "metadata": {},
   "outputs": [],
   "source": [
    "print(\"EXPERIMENTAL:\")\n",
    "print(\"mnu2=\",mnu2,\"mnu3=\",mnu3)\n",
    "print(\"===============================================\")\n",
    "print(\"SPHENO:\")\n",
    "print(\"mv2=\",mv2,\"mv3=\",mv3)\n",
    "print(\"===============================================\")\n",
    "print(\"ANALITY:\")\n",
    "print(\"mv2=\",MM[1],\"mv3=\",MM[2])\n",
    "print(\"===============================================\")"
   ]
  },
  {
   "cell_type": "code",
   "execution_count": null,
   "metadata": {},
   "outputs": [],
   "source": []
  },
  {
   "cell_type": "code",
   "execution_count": null,
   "metadata": {},
   "outputs": [],
   "source": [
    "'''\n",
    "EXPERIMENTAL:\n",
    "mnu2= 8.44971790744e-12 mnu3= 4.98108182187e-11\n",
    "===============================================\n",
    "SPHENO:\n",
    "mv2= 8.30927309e-12 mv3= 4.86264552e-11\n",
    "===============================================\n",
    "ANALITY:\n",
    "mv2= 8.62170236709e-12 mv3= 4.91520332098e-11\n",
    "'''"
   ]
  },
  {
   "cell_type": "code",
   "execution_count": null,
   "metadata": {},
   "outputs": [],
   "source": [
    "'''\n",
    "EXPERIMENTAL:\n",
    "mnu2= 8.41504335803e-12 mnu3= 5.07529500712e-11\n",
    "===============================================\n",
    "SPHENO:\n",
    "mv2= 8.28472095e-12 mv3= 5.00036813e-11\n",
    "===============================================\n",
    "ANALITY:\n",
    "mv2= 8.43438103309e-12 mv3= 5.08279154152e-11\n",
    "===============================================\n",
    "'''"
   ]
  },
  {
   "cell_type": "code",
   "execution_count": null,
   "metadata": {},
   "outputs": [],
   "source": [
    "'''\n",
    "EXPERIMENTAL:\n",
    "mnu2= 8.93576901978e-12 mnu3= 4.97574625124e-11\n",
    "===============================================\n",
    "SPHENO:\n",
    "mv2= 9.07768608e-12 mv3= 5.09852798e-11\n",
    "===============================================\n",
    "ANALITY:\n",
    "mv2= 9.24179733468e-12 mv3= 5.17639661825e-11\n",
    "===============================================\n",
    "'''"
   ]
  },
  {
   "cell_type": "code",
   "execution_count": null,
   "metadata": {},
   "outputs": [],
   "source": []
  },
  {
   "cell_type": "code",
   "execution_count": null,
   "metadata": {},
   "outputs": [],
   "source": []
  },
  {
   "cell_type": "code",
   "execution_count": null,
   "metadata": {},
   "outputs": [],
   "source": []
  },
  {
   "cell_type": "code",
   "execution_count": null,
   "metadata": {},
   "outputs": [],
   "source": []
  },
  {
   "cell_type": "code",
   "execution_count": null,
   "metadata": {},
   "outputs": [],
   "source": []
  },
  {
   "cell_type": "markdown",
   "metadata": {},
   "source": [
    "#### "
   ]
  }
 ],
 "metadata": {
  "kernelspec": {
   "display_name": "Python 3",
   "language": "python",
   "name": "python3"
  },
  "language_info": {
   "codemirror_mode": {
    "name": "ipython",
    "version": 3
   },
   "file_extension": ".py",
   "mimetype": "text/x-python",
   "name": "python",
   "nbconvert_exporter": "python",
   "pygments_lexer": "ipython3",
   "version": "3.5.3"
  }
 },
 "nbformat": 4,
 "nbformat_minor": 1
}
