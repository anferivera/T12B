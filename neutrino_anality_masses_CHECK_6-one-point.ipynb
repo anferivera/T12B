{
 "cells": [
  {
   "cell_type": "markdown",
   "metadata": {},
   "source": [
    "# T12B model: neutrino masses"
   ]
  },
  {
   "cell_type": "markdown",
   "metadata": {},
   "source": [
    "The idea is to check the anality expresion for neutrino masses with SPHENO. I will use a benchmark point"
   ]
  },
  {
   "cell_type": "markdown",
   "metadata": {},
   "source": [
    "### Rotation of no hermitian mass matrices"
   ]
  },
  {
   "cell_type": "markdown",
   "metadata": {},
   "source": [
    "Hermitian term:\n",
    "    \n",
    "$\\mathcal{L}_{\\text{mas}} = \\psi^{\\dagger} M \\psi$\n",
    "$\\to$\n",
    "$M_{\\text{diag}}=U^{-1}MU$\n",
    "\n",
    "No hermitian term:\n",
    " \n",
    "$\\mathcal{L}_{\\text{mas}} = \\psi_R^{\\dagger} M \\psi_L = \\psi_1^{\\dagger} M \\psi_2$\n",
    "$\\to$ $\\color{red}{M_{\\text{diag}}^2=V^{-1}MM^TV = U^{-1}M^TMU}$\n"
   ]
  },
  {
   "cell_type": "markdown",
   "metadata": {},
   "source": [
    "ie. the $V$ and $U$ matricess diagonalize the matrices $MM^T$ and $M^TM$ respectively\n",
    "\n",
    "such that: $\\Psi_1^i=V_{ij}\\psi_1^j$ and $\\Psi_2^i=U_{ij}\\psi_2^j$"
   ]
  },
  {
   "cell_type": "code",
   "execution_count": 1,
   "metadata": {},
   "outputs": [],
   "source": [
    "import numpy as np\n",
    "import pandas as pd\n",
    "import subprocess\n",
    "import time\n",
    "\n",
    "%matplotlib inline\n",
    "import matplotlib.pyplot as plt "
   ]
  },
  {
   "cell_type": "code",
   "execution_count": 2,
   "metadata": {},
   "outputs": [],
   "source": [
    "#good plots\n",
    "plt.rcParams.update({'font.size': 18}) \n",
    "#plt.rc('font',size='18')"
   ]
  },
  {
   "cell_type": "code",
   "execution_count": 3,
   "metadata": {},
   "outputs": [],
   "source": [
    "Gf = 1.16637000E-05\n",
    "vevSM = 1./np.sqrt(np.sqrt(2.)*Gf)"
   ]
  },
  {
   "cell_type": "markdown",
   "metadata": {},
   "source": [
    "# Neutrino masses for a benchmark point"
   ]
  },
  {
   "cell_type": "code",
   "execution_count": 4,
   "metadata": {},
   "outputs": [],
   "source": [
    "#!/usr/bin/env python\n",
    "import pyslha\n",
    "import pyT12B_LesHouches_generator\n",
    "import subprocess\n",
    "import sys\n",
    "import NEUTRINO2018\n",
    "import neutrino_analytic3\n",
    "#import Yukawa_fij"
   ]
  },
  {
   "cell_type": "markdown",
   "metadata": {},
   "source": [
    "# Benchmark point"
   ]
  },
  {
   "cell_type": "code",
   "execution_count": 5,
   "metadata": {},
   "outputs": [],
   "source": [
    "L1sm = 1.3e-1 #Warning\n",
    "L6 = 1.300E-02\n",
    "L71 = 1.01e-2\n",
    "L72 = 2.01e-2\n",
    "L73 = 3.01e-2\n",
    "mu31 = 1.01e4\n",
    "mu32 = 2.01e6\n",
    "mu33 = 1.01e10\n",
    "\n",
    "MN = np.exp(np.random.uniform(np.log(100.),np.log(200.)))\n",
    "MPsi = np.exp(np.random.uniform(np.log(200.),np.log(300.)))\n",
    "Meta = np.exp(np.random.uniform(np.log(300.),np.log(500.)))\n",
    "l1 = np.exp(np.random.uniform(np.log(1.0e-2),np.log(1.0e-4)))\n",
    "l2 = np.exp(np.random.uniform(np.log(1.0e-2),np.log(1.0e-4)))\n",
    "y1 = np.exp(np.random.uniform(np.log(1.0e-2),np.log(1.0e-4)))\n",
    "y2 = np.exp(np.random.uniform(np.log(1.0e-2),np.log(1.0e-4)))"
   ]
  },
  {
   "cell_type": "markdown",
   "metadata": {},
   "source": [
    "Runing firs time"
   ]
  },
  {
   "cell_type": "code",
   "execution_count": 6,
   "metadata": {},
   "outputs": [],
   "source": [
    "#Open for the first time\n",
    "xdict = pyT12B_LesHouches_generator.buildSLHAinFile()\n",
    "\n",
    "# Modific the LesHouches         \n",
    "xdict.blocks['MINPAR'].entries[1]='%.6E    # lambda1Input' %L1sm     \n",
    "xdict.blocks['MINPAR'].entries[2]='%.6E    # lambda61Input' %L6 \n",
    "xdict.blocks['MINPAR'].entries[5]='%.6E    # lambda71Input' %L71   \n",
    "xdict.blocks['MINPAR'].entries[6]='%.6E    # lambda72Input' %L72   \n",
    "xdict.blocks['MINPAR'].entries[7]='%.6E    # lambda73Input' %L73       \n",
    "xdict.blocks['MINPAR'].entries[8]='%.6E    # mu31Input' %mu31\n",
    "xdict.blocks['MINPAR'].entries[9]='%.6E    # mu32Input' %mu32\n",
    "xdict.blocks['MINPAR'].entries[10]='%.6E    # mu33Input' %mu33\n",
    "\n",
    "xdict.blocks['MNIN'].entries[1]='%.6E    # MN' %MN\n",
    "xdict.blocks['MR1IN'].entries[1]='%.6E    # Mr1' %MPsi\n",
    "xdict.blocks['MR2IN'].entries[1]='%.6E    # Mr2' %Meta\n",
    "xdict.blocks['YLR1IN'].entries[1]='%.6E    # YlR1' %l1\n",
    "xdict.blocks['YLR2IN'].entries[1]='%.6E    # YlR2' %l2\n",
    "xdict.blocks['YYR1IN'].entries[1]='%.6E    # YyR1' %y1\n",
    "xdict.blocks['YYR2IN'].entries[1]='%.6E    # YyR2' %y2\n",
    "\n",
    "#Write the Leshouches file for the first time\n",
    "pyslha.writeSLHAFile('LesHouches.in.T12B_low',xdict)    \n",
    "\n",
    "#run SPheno for the first time\n",
    "spheno = subprocess.getoutput('../.././SPheno-4.0.3/bin/SPhenoT12B LesHouches.in.T12B_low')    \n",
    "SPheno_output = subprocess.getoutput('cat SPheno.spc.T12B')\n",
    "\n",
    "MS1 = eval(SPheno_output.split('# Mass spectrum')[1].split()[10])\n",
    "MS2 = eval(SPheno_output.split('# Mass spectrum')[1].split()[14])\n",
    "MS3 = eval(SPheno_output.split('# Mass spectrum')[1].split()[18])\n",
    "\n",
    "mx1 = eval(SPheno_output.split('Fe_3')[1].split()[1])\n",
    "mx2 = eval(SPheno_output.split('Fe_3')[1].split()[5])\n",
    "mx3 = eval(SPheno_output.split('Fe_3')[1].split()[9])\n",
    "\n",
    "U11 = eval(SPheno_output.split('Block LNEUTROMIX')[1].split()[6])\n",
    "U12 = eval(SPheno_output.split('Block LNEUTROMIX')[1].split()[11])\n",
    "U13 = eval(SPheno_output.split('Block LNEUTROMIX')[1].split()[16])\n",
    "U21 = eval(SPheno_output.split('Block LNEUTROMIX')[1].split()[21])\n",
    "U22 = eval(SPheno_output.split('Block LNEUTROMIX')[1].split()[26])\n",
    "U23 = eval(SPheno_output.split('Block LNEUTROMIX')[1].split()[31])\n",
    "U31 = eval(SPheno_output.split('Block LNEUTROMIX')[1].split()[36])\n",
    "U32 = eval(SPheno_output.split('Block LNEUTROMIX')[1].split()[41])\n",
    "U33 = eval(SPheno_output.split('Block LNEUTROMIX')[1].split()[46])\n",
    "\n",
    "V11 = eval(SPheno_output.split('Block RNEUTROMIX')[1].split()[6])\n",
    "V12 = eval(SPheno_output.split('Block RNEUTROMIX')[1].split()[11])\n",
    "V13 = eval(SPheno_output.split('Block RNEUTROMIX')[1].split()[16])\n",
    "V21 = eval(SPheno_output.split('Block RNEUTROMIX')[1].split()[21])\n",
    "V22 = eval(SPheno_output.split('Block RNEUTROMIX')[1].split()[26])\n",
    "V23 = eval(SPheno_output.split('Block RNEUTROMIX')[1].split()[31])\n",
    "V31 = eval(SPheno_output.split('Block RNEUTROMIX')[1].split()[36])\n",
    "V32 = eval(SPheno_output.split('Block RNEUTROMIX')[1].split()[41])\n",
    "V33 = eval(SPheno_output.split('Block RNEUTROMIX')[1].split()[46])\n",
    "\n",
    "L1 = neutrino_analytic3.LAMBDA(mx1, MS1, V21, U11) + neutrino_analytic3.LAMBDA(mx2, MS1, V22, U21) +\\\n",
    "        neutrino_analytic3.LAMBDA(mx3, MS1, V32, U31)\n",
    "L2 = neutrino_analytic3.LAMBDA(mx1, MS2, V21, U11) + neutrino_analytic3.LAMBDA(mx2, MS2, V22, U21) +\\\n",
    "        neutrino_analytic3.LAMBDA(mx3, MS2, V32, U31) \n",
    "L3 = neutrino_analytic3.LAMBDA(mx1, MS3, V21, U11) + neutrino_analytic3.LAMBDA(mx2, MS3, V22, U21) +\\\n",
    "        neutrino_analytic3.LAMBDA(mx3, MS3, V32, U31) \n",
    "\n",
    "Linv = np.array([[1./L1 ,0.,0],[0.,1./L2,0.],[0.,0.,1./L3]])"
   ]
  },
  {
   "cell_type": "code",
   "execution_count": 7,
   "metadata": {},
   "outputs": [
    {
     "data": {
      "text/plain": [
       "array([[-1196610.54878273,        0.        ,        0.        ],\n",
       "       [       0.        ,  -800710.20755578,        0.        ],\n",
       "       [       0.        ,        0.        ,  -486246.87990473]])"
      ]
     },
     "execution_count": 7,
     "metadata": {},
     "output_type": "execute_result"
    }
   ],
   "source": [
    "Linv"
   ]
  },
  {
   "cell_type": "code",
   "execution_count": 8,
   "metadata": {},
   "outputs": [],
   "source": [
    "def ran_num():\n",
    "    \n",
    "    return np.exp(np.random.uniform(np.log(1.*10**(-4)),np.log(10**(0))))\n",
    "\n",
    "#H random matrix\n",
    "def h():\n",
    "    h = np.array([[ran_num(),ran_num(),ran_num()],\n",
    "                  [ran_num(),ran_num(),ran_num()],\n",
    "                  [ran_num(),ran_num(),ran_num()]])\n",
    "    \n",
    "    return h"
   ]
  },
  {
   "cell_type": "code",
   "execution_count": 9,
   "metadata": {},
   "outputs": [],
   "source": [
    "h = h()"
   ]
  },
  {
   "cell_type": "code",
   "execution_count": 10,
   "metadata": {},
   "outputs": [
    {
     "data": {
      "text/plain": [
       "array([[  9.70049373e-02,   9.08548854e-04,   3.82560029e-01],\n",
       "       [  2.62744067e-03,   2.32950847e-03,   8.41276766e-04],\n",
       "       [  4.14784453e-03,   3.33100370e-04,   1.76784445e-01]])"
      ]
     },
     "execution_count": 10,
     "metadata": {},
     "output_type": "execute_result"
    }
   ],
   "source": [
    "h"
   ]
  },
  {
   "cell_type": "code",
   "execution_count": 11,
   "metadata": {},
   "outputs": [
    {
     "data": {
      "text/plain": [
       "array([[  1.13870894e+01,  -9.18248832e-01,  -2.46371946e+01],\n",
       "       [ -1.27556333e+01,   4.30596021e+02,   2.55539735e+01],\n",
       "       [ -2.43137741e-01,  -7.89792001e-01,   6.18651271e+00]])"
      ]
     },
     "execution_count": 11,
     "metadata": {},
     "output_type": "execute_result"
    }
   ],
   "source": [
    "hinv = np.linalg.inv(h)\n",
    "hinv"
   ]
  },
  {
   "cell_type": "code",
   "execution_count": 12,
   "metadata": {},
   "outputs": [
    {
     "data": {
      "text/plain": [
       "array([[  1.00000000e+00,   0.00000000e+00,   0.00000000e+00],\n",
       "       [ -3.76760255e-18,   1.00000000e+00,   1.38777878e-17],\n",
       "       [  6.93889390e-18,   2.77555756e-17,   1.00000000e+00]])"
      ]
     },
     "execution_count": 12,
     "metadata": {},
     "output_type": "execute_result"
    }
   ],
   "source": [
    "np.dot(h,hinv)"
   ]
  },
  {
   "cell_type": "code",
   "execution_count": 13,
   "metadata": {},
   "outputs": [],
   "source": [
    "#PMNS matrix 2018 to 3\\sigma https://arxiv.org/abs/1708.01186\n",
    "\n",
    "#phases of the PMNS matrix and the R \n",
    "phases1 = np.random.uniform(0.,0.0*np.pi,3) # WARNING! They are in zero\n",
    "delta = phases1[0]\n",
    "eta1 = phases1[1]\n",
    "eta2 = phases1[2]\n",
    "\n",
    "#light neutrino masses (up 3 sigma range) NH (NO)\n",
    "#mnu1 = 10**((np.log10(2.5e-3)-np.log10(1e-9))*np.random.uniform(0,1)+np.log10(1e-9))*1e-9 \n",
    "#Zero in this framework\n",
    "mnu1 = 1.0e-20\n",
    "mnu2 = np.sqrt(np.random.uniform(7.05e-5,8.14e-5)*1.0e-18+mnu1**2)\n",
    "mnu3 = np.sqrt(np.random.uniform(2.41e-3,2.60e-3)*1.0e-18+mnu1**2)\n",
    "\n",
    "#mixing angles (up 3 sigma range) NH\n",
    "t12 = np.arcsin(np.sqrt(np.random.uniform(0.273,0.379)))\n",
    "t23 = np.arcsin(np.sqrt(np.random.uniform(0.445,0.599)))\n",
    "t13 = np.arcsin(np.sqrt(np.random.uniform(0.0196,0.0241)))\n",
    "\n",
    "#Building PMNS matrix NH\n",
    "UM12 = np.array([ [np.cos(t12),np.sin(t12),0.], [-np.sin(t12),np.cos(t12),0.], [0.,0.,1.0] ])\n",
    "UM13 = np.array([ [np.cos(t13),0.,np.sin(t13)], [0.,1.0,0.], [-np.sin(t13),0.,np.cos(t13)] ])\n",
    "UM23 = np.array([ [1.0,0.,0.], [0.,np.cos(t23),np.sin(t23)], [0.,-np.sin(t23),np.cos(t23)] ])\n",
    "Uphases = np.array([ [np.exp(eta1*1j),0.,0.], [0.,np.exp(eta2*1j),0.], [0.,0.,1.0] ])\n",
    "P=np.dot(UM23,np.dot(UM13,np.dot(UM12,Uphases))).real"
   ]
  },
  {
   "cell_type": "code",
   "execution_count": 14,
   "metadata": {},
   "outputs": [
    {
     "name": "stdout",
     "output_type": "stream",
     "text": [
      "mnu1= 1e-20 mnu2= 8.40353461443e-12 mnu3= 4.93507730298e-11\n",
      "[[ 0.78996803  0.59464638  0.14948644]\n",
      " [-0.49877858  0.4814297   0.72072558]\n",
      " [ 0.35660965 -0.6439108   0.67691095]]\n"
     ]
    }
   ],
   "source": [
    "print(\"mnu1=\",mnu1,\"mnu2=\",mnu2,\"mnu3=\",mnu3)\n",
    "print(P)"
   ]
  },
  {
   "cell_type": "markdown",
   "metadata": {},
   "source": [
    "\\begin{align}\n",
    "f = \\sqrt{D}R\\sqrt{D}U_{{\\rm PMNS}}^T\\left(h^{-1}\\right)^T\\Lambda^{-1}\\;,\n",
    "\\end{align}"
   ]
  },
  {
   "cell_type": "code",
   "execution_count": 15,
   "metadata": {},
   "outputs": [
    {
     "data": {
      "text/plain": [
       "array([[  1.00000000e-10,   0.00000000e+00,   0.00000000e+00],\n",
       "       [  0.00000000e+00,   2.89888506e-06,   0.00000000e+00],\n",
       "       [  0.00000000e+00,   0.00000000e+00,   7.02501054e-06]])"
      ]
     },
     "execution_count": 15,
     "metadata": {},
     "output_type": "execute_result"
    }
   ],
   "source": [
    "D = np.array([[np.sqrt(mnu1),0.,0.],\n",
    "              [0.,np.sqrt(mnu2),0.],[0.,0.,np.sqrt(mnu3)]])\n",
    "D"
   ]
  },
  {
   "cell_type": "code",
   "execution_count": 16,
   "metadata": {},
   "outputs": [
    {
     "data": {
      "text/plain": [
       "array([[ 0.,  0.,  0.],\n",
       "       [ 0.,  1.,  0.],\n",
       "       [ 0.,  0.,  1.]])"
      ]
     },
     "execution_count": 16,
     "metadata": {},
     "output_type": "execute_result"
    }
   ],
   "source": [
    "R = np.array([[0.,0.,0.],\n",
    "                  [0.,1.,0.],\n",
    "                  [0.,0.,1.]])\n",
    "R"
   ]
  },
  {
   "cell_type": "code",
   "execution_count": 17,
   "metadata": {},
   "outputs": [
    {
     "data": {
      "text/plain": [
       "array([[  0.00000000e+00,   0.00000000e+00,   0.00000000e+00],\n",
       "       [ -2.23171212e-04,  -1.23313357e-03,   1.84220786e-05],\n",
       "       [  9.23408829e-04,  -1.28715388e-02,  -8.59596121e-05]])"
      ]
     },
     "execution_count": 17,
     "metadata": {},
     "output_type": "execute_result"
    }
   ],
   "source": [
    "f = np.dot(np.dot(np.dot(np.dot(np.dot(D,R),D),np.transpose(P)),np.transpose(hinv)),Linv)\n",
    "f"
   ]
  },
  {
   "cell_type": "code",
   "execution_count": 18,
   "metadata": {},
   "outputs": [],
   "source": [
    "#ALGORITM:\n",
    "f11 = f[0,0]\n",
    "f21 = f[1,0]\n",
    "f31 = f[2,0]\n",
    "\n",
    "f12 = f[0,1]\n",
    "f22 = f[1,1]\n",
    "f32 = f[2,1]\n",
    "\n",
    "f13 = f[0,2]    \n",
    "f23 = f[1,2]\n",
    "f33 = f[2,2]\n",
    "\n",
    "h11 = h[0,0]\n",
    "h21 = h[1,0]\n",
    "h31 = h[2,0]\n",
    "\n",
    "h12 = h[0,1]\n",
    "h22 = h[1,1]\n",
    "h32 = h[2,1]\n",
    "\n",
    "h13 = h[0,2]\n",
    "h23 = h[1,2]\n",
    "h33 = h[2,2]"
   ]
  },
  {
   "cell_type": "code",
   "execution_count": 19,
   "metadata": {},
   "outputs": [],
   "source": [
    "x = []\n",
    "\n",
    "#Open for the second time\n",
    "xdict = pyT12B_LesHouches_generator.buildSLHAinFile()\n",
    "\n",
    "# Modific the LesHouches         \n",
    "xdict.blocks['MINPAR'].entries[1]='%.6E    # lambda1Input' %L1sm     \n",
    "xdict.blocks['MINPAR'].entries[2]='%.6E    # lambda61Input' %L6 \n",
    "xdict.blocks['MINPAR'].entries[5]='%.6E    # lambda71Input' %L71   \n",
    "xdict.blocks['MINPAR'].entries[6]='%.6E    # lambda72Input' %L72   \n",
    "xdict.blocks['MINPAR'].entries[7]='%.6E    # lambda73Input' %L73       \n",
    "xdict.blocks['MINPAR'].entries[8]='%.6E    # mu31Input' %mu31\n",
    "xdict.blocks['MINPAR'].entries[9]='%.6E    # mu32Input' %mu32\n",
    "xdict.blocks['MINPAR'].entries[10]='%.6E    # mu33Input' %mu33\n",
    "\n",
    "xdict.blocks['MNIN'].entries[1]='%.6E    # MN' %MN\n",
    "xdict.blocks['MR1IN'].entries[1]='%.6E    # Mr1' %MPsi\n",
    "xdict.blocks['MR2IN'].entries[1]='%.6E    # Mr2' %Meta\n",
    "xdict.blocks['YLR1IN'].entries[1]='%.6E    # YlR1' %l1\n",
    "xdict.blocks['YLR2IN'].entries[1]='%.6E    # YlR2' %l2\n",
    "xdict.blocks['YYR1IN'].entries[1]='%.6E    # YyR1' %y1\n",
    "xdict.blocks['YYR2IN'].entries[1]='%.6E    # YyR2' %y2\n",
    "\n",
    "xdict.blocks['YHR1IN'].entries[1]='%.6E    # YhR1(1)' %h11 \n",
    "xdict.blocks['YHR1IN'].entries[2]='%.6E    # YhR1(2)' %h21\n",
    "xdict.blocks['YHR1IN'].entries[3]='%.6E    # YhR1(3)' %h31\n",
    "\n",
    "xdict.blocks['YHR2IN'].entries[1]='%.6E    # YhR2(1)' %h12 \n",
    "xdict.blocks['YHR2IN'].entries[2]='%.6E    # YhR2(2)' %h22\n",
    "xdict.blocks['YHR2IN'].entries[3]='%.6E    # YhR2(3)' %h32\n",
    "\n",
    "xdict.blocks['YHR3IN'].entries[1]='%.6E    # YhR3(1)' %h13 \n",
    "xdict.blocks['YHR3IN'].entries[2]='%.6E    # YhR3(2)' %h23\n",
    "xdict.blocks['YHR3IN'].entries[3]='%.6E    # YhR3(3)' %h33\n",
    "\n",
    "xdict.blocks['YFR1IN'].entries[1]='%.6E    # YfR1(1)' %f11 \n",
    "xdict.blocks['YFR1IN'].entries[2]='%.6E    # YfR1(2)' %f21\n",
    "xdict.blocks['YFR1IN'].entries[3]='%.6E    # YfR1(3)' %f31\n",
    "\n",
    "xdict.blocks['YFR2IN'].entries[1]='%.6E    # YfR2(1)' %f12 \n",
    "xdict.blocks['YFR2IN'].entries[2]='%.6E    # YfR2(2)' %f22\n",
    "xdict.blocks['YFR2IN'].entries[3]='%.6E    # YfR2(3)' %f32\n",
    "\n",
    "xdict.blocks['YFR3IN'].entries[1]='%.6E    # YfR3(1)' %f13 \n",
    "xdict.blocks['YFR3IN'].entries[2]='%.6E    # YfR3(2)' %f23\n",
    "xdict.blocks['YFR3IN'].entries[3]='%.6E    # YfR3(3)' %f33\n",
    "\n",
    "#Write the Leshouches file for the second time\n",
    "pyslha.writeSLHAFile('LesHouches.in.T12B_low',xdict)    \n",
    "\n",
    "#run SPheno for the second time\n",
    "spheno = subprocess.getoutput('../.././SPheno-4.0.3/bin/SPhenoT12B LesHouches.in.T12B_low')    \n",
    "SPheno_output = subprocess.getoutput('cat SPheno.spc.T12B')\n",
    "\n",
    "##++++++++++ Neutrinos +++++++++++++++++++++++++++++++++\n",
    "if SPheno_output.split('# Fk')[1].split()[1] == \"NaN\":\n",
    "    mv1 = 0.\n",
    "else: \n",
    "    mv1 = eval(SPheno_output.split('# Fk')[1].split()[1])           \n",
    "mv2 = eval(SPheno_output.split('# Fk')[1].split()[5])       \n",
    "mv3 = eval(SPheno_output.split('# Fk')[1].split()[9])  \n",
    "\n",
    "x.append([L1,L6,L71,L72,L73,mu31,mu32,mu33,MN,MPsi,Meta,l1,l2,y1,y2,h11,h21,h31,h12,h22,h32,h13,h23,h33,f11,f21,f31,\\\n",
    "          f12,f22,f32,f13,f23,f33,mv1,mv2,mv3,MS1,MS2,MS3,mx1,mx2,mx3,V11,V12,V13,V21,V22,V23,V31,V32,V33,\\\n",
    "          U11,U12,U13,U21,U22,U23,U31,U32,U33])\n",
    "\n",
    "x=np.asarray(x)\n",
    "    \n",
    "xd=pd.DataFrame(x,columns=['L1','L6','L71','L72','L73','mu31','mu32','mu33','MN','MPsi','Meta','l1','l2','y1','y2',\\\n",
    "                           'h11','h21','h31','h12','h22','h32','h13','h23','h33','f11','f21','f31','f12','f22',\\\n",
    "                           'f32','f13','f23','f33','mv1','mv2','mv3','MS1','MS2','MS3','mx1','mx2','mx3',\\\n",
    "                           'V11','V12','V13','V21','V22','V23','V31','V32','V33','U11','U12','U13','U21',\\\n",
    "                           'U22','U23','U31','U32','U33'])       "
   ]
  },
  {
   "cell_type": "code",
   "execution_count": 20,
   "metadata": {},
   "outputs": [],
   "source": [
    "#run anality\n",
    "MM = neutrino_analytic3.MATRIX_NU_DIAG(xd.h11[0],xd.h12[0],xd.h13[0],xd.h21[0],xd.h22[0],xd.h23[0],xd.h31[0],xd.h32[0],xd.h33[0],\\\n",
    "                    xd.f11[0],xd.f12[0],xd.f13[0],xd.f21[0],xd.f22[0],xd.f23[0],xd.f31[0],xd.f32[0],xd.f33[0],\\\n",
    "                    xd.MS1[0],xd.MS2[0],xd.MS3[0],xd.mx1[0],xd.mx2[0],xd.mx3[0],xd.V12[0],xd.V22[0],xd.V32[0],\\\n",
    "                    xd.U11[0],xd.U21[0],xd.U31[0])"
   ]
  },
  {
   "cell_type": "code",
   "execution_count": 21,
   "metadata": {},
   "outputs": [
    {
     "name": "stdout",
     "output_type": "stream",
     "text": [
      "EXPERIMENTAL:\n",
      "mnu2= 8.40353461443e-12 mnu3= 4.93507730298e-11\n",
      "===============================================\n",
      "SPHENO:\n",
      "mv2= 1.10033093e-13 mv3= 6.23279455e-12\n",
      "===============================================\n",
      "ANALITY:\n",
      "mv2= 1.30939232157e-13 mv3= 6.18474445603e-12\n",
      "===============================================\n"
     ]
    }
   ],
   "source": [
    "print(\"EXPERIMENTAL:\")\n",
    "print(\"mnu2=\",mnu2,\"mnu3=\",mnu3)\n",
    "print(\"===============================================\")\n",
    "print(\"SPHENO:\")\n",
    "print(\"mv2=\",mv2,\"mv3=\",mv3)\n",
    "print(\"===============================================\")\n",
    "print(\"ANALITY:\")\n",
    "print(\"mv2=\",MM[1],\"mv3=\",MM[2])\n",
    "print(\"===============================================\")"
   ]
  },
  {
   "cell_type": "code",
   "execution_count": null,
   "metadata": {},
   "outputs": [],
   "source": []
  },
  {
   "cell_type": "code",
   "execution_count": null,
   "metadata": {},
   "outputs": [],
   "source": []
  },
  {
   "cell_type": "code",
   "execution_count": null,
   "metadata": {},
   "outputs": [],
   "source": []
  },
  {
   "cell_type": "code",
   "execution_count": null,
   "metadata": {},
   "outputs": [],
   "source": []
  },
  {
   "cell_type": "code",
   "execution_count": null,
   "metadata": {},
   "outputs": [],
   "source": []
  },
  {
   "cell_type": "code",
   "execution_count": null,
   "metadata": {},
   "outputs": [],
   "source": []
  },
  {
   "cell_type": "code",
   "execution_count": null,
   "metadata": {},
   "outputs": [],
   "source": []
  }
 ],
 "metadata": {
  "kernelspec": {
   "display_name": "Python 3",
   "language": "python",
   "name": "python3"
  },
  "language_info": {
   "codemirror_mode": {
    "name": "ipython",
    "version": 3
   },
   "file_extension": ".py",
   "mimetype": "text/x-python",
   "name": "python",
   "nbconvert_exporter": "python",
   "pygments_lexer": "ipython3",
   "version": "3.5.3"
  }
 },
 "nbformat": 4,
 "nbformat_minor": 1
}
