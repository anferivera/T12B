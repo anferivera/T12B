{
 "cells": [
  {
   "cell_type": "markdown",
   "metadata": {},
   "source": [
    "## T12B model: neutrino masses"
   ]
  },
  {
   "cell_type": "markdown",
   "metadata": {},
   "source": [
    "The idea is to check the anality expresion for neutrino masses with SPHENO. I will use a benchmark point"
   ]
  },
  {
   "cell_type": "code",
   "execution_count": 1,
   "metadata": {},
   "outputs": [],
   "source": [
    "import numpy as np\n",
    "import pandas as pd\n",
    "import subprocess\n",
    "import time\n",
    "\n",
    "%matplotlib inline\n",
    "import matplotlib.pyplot as plt "
   ]
  },
  {
   "cell_type": "code",
   "execution_count": 2,
   "metadata": {},
   "outputs": [],
   "source": [
    "#good plots\n",
    "plt.rcParams.update({'font.size': 18}) \n",
    "#plt.rc('font',size='18')"
   ]
  },
  {
   "cell_type": "code",
   "execution_count": 3,
   "metadata": {},
   "outputs": [],
   "source": [
    "Gf = 1.16637000E-05\n",
    "vevSM = 1./np.sqrt(np.sqrt(2.)*Gf)"
   ]
  },
  {
   "cell_type": "code",
   "execution_count": 7,
   "metadata": {},
   "outputs": [],
   "source": [
    "#benchmarck point\n",
    "MN = 101.0\n",
    "MPsi = 200.1\n",
    "Meta = 301.1\n",
    "l1 = 1.02e-2\n",
    "l2 = 2.01e-3\n",
    "y1 = 1.01e-2\n",
    "y2 = 2.1e-3"
   ]
  },
  {
   "cell_type": "markdown",
   "metadata": {},
   "source": [
    "# Neutrino masses for a benchmark point"
   ]
  },
  {
   "cell_type": "code",
   "execution_count": 50,
   "metadata": {},
   "outputs": [
    {
     "name": "stdout",
     "output_type": "stream",
     "text": [
      "SPHENO masses:\n",
      "mv1= 1.46895965e-15 mv2= 1.60407889e-14 mv3= 3.86482457e-13\n"
     ]
    }
   ],
   "source": [
    "#!/usr/bin/env python\n",
    "import pyslha\n",
    "import pyT12B_LesHouches_generator\n",
    "import subprocess\n",
    "import sys\n",
    "\n",
    "import NEUTRINO2018\n",
    "import neutrino_analytic3\n",
    "\n",
    "#Open\n",
    "xdict = pyT12B_LesHouches_generator.buildSLHAinFile()\n",
    "\n",
    "x=[]\n",
    "\n",
    "L1 = 1.3e-1 #Warning\n",
    "L6 = 1.300E-02\n",
    "L71 = 1.01e-2\n",
    "L72 = 2.01e-2\n",
    "L73 = 3.01e-4\n",
    "mu31 = 1.01e6\n",
    "mu32 = 2.01e6\n",
    "mu33 = 1.01e8\n",
    "\n",
    "MN = 101.0\n",
    "MPsi = 200.1\n",
    "Meta = 301.1\n",
    "l1 = 1.02e-2\n",
    "l2 = 2.01e-3\n",
    "y1 = 1.01e-2\n",
    "y2 = 2.1e-3\n",
    "\n",
    "# Modific the LesHouches         \n",
    "xdict.blocks['MINPAR'].entries[1]='%.6E    # lambda1Input' %L1     \n",
    "xdict.blocks['MINPAR'].entries[2]='%.6E    # lambda61Input' %L6 \n",
    "xdict.blocks['MINPAR'].entries[5]='%.6E    # lambda71Input' %L71   \n",
    "xdict.blocks['MINPAR'].entries[6]='%.6E    # lambda72Input' %L72   \n",
    "xdict.blocks['MINPAR'].entries[7]='%.6E    # lambda73Input' %L73       \n",
    "xdict.blocks['MINPAR'].entries[8]='%.6E    # mu31Input' %mu31\n",
    "xdict.blocks['MINPAR'].entries[9]='%.6E    # mu32Input' %mu32\n",
    "xdict.blocks['MINPAR'].entries[10]='%.6E    # mu33Input' %mu33\n",
    "\n",
    "xdict.blocks['MNIN'].entries[1]='%.6E    # MN' %MN\n",
    "xdict.blocks['MR1IN'].entries[1]='%.6E    # Mr1' %MPsi\n",
    "xdict.blocks['MR2IN'].entries[1]='%.6E    # Mr2' %Meta\n",
    "xdict.blocks['YLR1IN'].entries[1]='%.6E    # YlR1' %l1\n",
    "xdict.blocks['YLR2IN'].entries[1]='%.6E    # YlR2' %l2\n",
    "xdict.blocks['YYR1IN'].entries[1]='%.6E    # YyR1' %y1\n",
    "xdict.blocks['YYR2IN'].entries[1]='%.6E    # YyR2' %y2\n",
    "\n",
    "a11 = 1e-5\n",
    "a21 = 1e-3\n",
    "a31 = 3e-3   \n",
    "a12 = 1e-6\n",
    "a22 = 2e-3\n",
    "a32 = 1e-4\n",
    "a13 = 1e-2\n",
    "a23 = 2e-2\n",
    "a33 = 3e-2\n",
    "\n",
    "b11 = 1e-3\n",
    "b21 = 1e-4\n",
    "b31 = 1e-4\n",
    "b12 = 1e-3\n",
    "b22 = 2e-3\n",
    "b32 = 3e-4\n",
    "b13 = 3e-2\n",
    "b23 = 2e-2\n",
    "b33 = 1e-2\n",
    "\n",
    "xdict.blocks['YFR1IN'].entries[1]='%.6E    # YfR1(1)' %a11 \n",
    "xdict.blocks['YFR1IN'].entries[2]='%.6E    # YfR1(2)' %a21\n",
    "xdict.blocks['YFR1IN'].entries[3]='%.6E    # YfR1(3)' %a31\n",
    "xdict.blocks['YFR2IN'].entries[1]='%.6E    # YfR2(1)' %a12 \n",
    "xdict.blocks['YFR2IN'].entries[2]='%.6E    # YfR2(2)' %a22\n",
    "xdict.blocks['YFR2IN'].entries[3]='%.6E    # YfR2(3)' %a32\n",
    "xdict.blocks['YFR3IN'].entries[1]='%.6E    # YfR3(1)' %a13 \n",
    "xdict.blocks['YFR3IN'].entries[2]='%.6E    # YfR3(2)' %a23\n",
    "xdict.blocks['YFR3IN'].entries[3]='%.6E    # YfR3(3)' %a33\n",
    "\n",
    "xdict.blocks['YHR1IN'].entries[1]='%.6E    # YhR1(1)' %b11 \n",
    "xdict.blocks['YHR1IN'].entries[2]='%.6E    # YhR1(2)' %b21\n",
    "xdict.blocks['YHR1IN'].entries[3]='%.6E    # YhR1(3)' %b31\n",
    "xdict.blocks['YHR2IN'].entries[1]='%.6E    # YhR2(1)' %b12 \n",
    "xdict.blocks['YHR2IN'].entries[2]='%.6E    # YhR2(2)' %b22\n",
    "xdict.blocks['YHR2IN'].entries[3]='%.6E    # YhR2(3)' %b32\n",
    "xdict.blocks['YHR3IN'].entries[1]='%.6E    # YhR3(1)' %b13 \n",
    "xdict.blocks['YHR3IN'].entries[2]='%.6E    # YhR3(2)' %b23\n",
    "xdict.blocks['YHR3IN'].entries[3]='%.6E    # YhR3(3)' %b33\n",
    "\n",
    "#Write the Leshouches file\n",
    "pyslha.writeSLHAFile('LesHouches.in.T12B_low',xdict)    \n",
    "\n",
    "#run SPheno\n",
    "spheno = subprocess.getoutput('../.././SPheno-4.0.3/bin/SPhenoT12B LesHouches.in.T12B_low')    \n",
    "SPheno_output = subprocess.getoutput('cat SPheno.spc.T12B')\n",
    "\n",
    "##++++++++++ Neutrinos +++++++++++++++++++++++++++++++++\n",
    "if SPheno_output.split('# Fk')[1].split()[1] == \"NaN\":\n",
    "    mv1 = 0.\n",
    "else: \n",
    "    mv1 = eval(SPheno_output.split('# Fk')[1].split()[1])           \n",
    "mv2 = eval(SPheno_output.split('# Fk')[1].split()[5])       \n",
    "mv3 = eval(SPheno_output.split('# Fk')[1].split()[9])  \n",
    "\n",
    "print(\"SPHENO masses:\")\n",
    "print(\"mv1=\",mv1,\"mv2=\",mv2,\"mv3=\",mv3)\n",
    "\n",
    "MS1 = eval(SPheno_output.split('# Mass spectrum')[1].split()[10])\n",
    "MS2 = eval(SPheno_output.split('# Mass spectrum')[1].split()[14])\n",
    "MS3 = eval(SPheno_output.split('# Mass spectrum')[1].split()[18])\n",
    "\n",
    "V11 = eval(SPheno_output.split('Block LNEUTROMIX')[1].split()[6])\n",
    "V12 = eval(SPheno_output.split('Block LNEUTROMIX')[1].split()[11])\n",
    "V13 = eval(SPheno_output.split('Block LNEUTROMIX')[1].split()[16])\n",
    "V21 = eval(SPheno_output.split('Block LNEUTROMIX')[1].split()[21])\n",
    "V22 = eval(SPheno_output.split('Block LNEUTROMIX')[1].split()[26])\n",
    "V23 = eval(SPheno_output.split('Block LNEUTROMIX')[1].split()[31])\n",
    "V31 = eval(SPheno_output.split('Block LNEUTROMIX')[1].split()[36])\n",
    "V32 = eval(SPheno_output.split('Block LNEUTROMIX')[1].split()[41])\n",
    "V33 = eval(SPheno_output.split('Block LNEUTROMIX')[1].split()[46])\n",
    "U11 = eval(SPheno_output.split('Block RNEUTROMIX')[1].split()[6])\n",
    "U12 = eval(SPheno_output.split('Block RNEUTROMIX')[1].split()[11])\n",
    "U13 = eval(SPheno_output.split('Block RNEUTROMIX')[1].split()[16])\n",
    "U21 = eval(SPheno_output.split('Block RNEUTROMIX')[1].split()[21])\n",
    "U22 = eval(SPheno_output.split('Block RNEUTROMIX')[1].split()[26])\n",
    "U23 = eval(SPheno_output.split('Block RNEUTROMIX')[1].split()[31])\n",
    "U31 = eval(SPheno_output.split('Block RNEUTROMIX')[1].split()[36])\n",
    "U32 = eval(SPheno_output.split('Block RNEUTROMIX')[1].split()[41])\n",
    "U33 = eval(SPheno_output.split('Block RNEUTROMIX')[1].split()[46])\n",
    "\n",
    "x.append([L1,L6,L71,L72,L73,mu31,mu32,mu33,MN,MPsi,Meta,l1,l2,y1,y2,a11,a21,a31,a12,a22,a32,a13,a23,a33,b11,b21,b31,\\\n",
    "          b12,b22,b32,b13,b23,b33,mv1,mv2,mv3,MS1,MS2,MS3,V11,V12,V13,V21,V22,V23,V31,V32,V33,U11,U12,U13,U21,U22,\\\n",
    "          U23,U31,U32,U33])\n",
    "    \n",
    "x=np.asarray(x)\n",
    "xd=pd.DataFrame(x,columns=['L1','L6','L71','L72','L73','mu31','mu32','mu33','MN','MPsi','Meta','l1','l2','y1','y2',\\\n",
    "                           'a11','a21','a31','a12','a22','a32','a13','a23','a33','b11','b21','b31','b12','b22',\\\n",
    "                           'b32','b13','b23','b33','mv1','mv2','mv3','MS1','MS2','MS3','V11','V12','V13','V21',\\\n",
    "                           'V22','V23','V31','V32','V33','U11','U12','U13','U21','U22','U23','U31','U32','U33'])       "
   ]
  },
  {
   "cell_type": "code",
   "execution_count": 52,
   "metadata": {},
   "outputs": [
    {
     "data": {
      "text/html": [
       "<div>\n",
       "<table border=\"1\" class=\"dataframe\">\n",
       "  <thead>\n",
       "    <tr style=\"text-align: right;\">\n",
       "      <th></th>\n",
       "      <th>L1</th>\n",
       "      <th>L6</th>\n",
       "      <th>L71</th>\n",
       "      <th>L72</th>\n",
       "      <th>L73</th>\n",
       "      <th>mu31</th>\n",
       "      <th>mu32</th>\n",
       "      <th>mu33</th>\n",
       "      <th>MN</th>\n",
       "      <th>MPsi</th>\n",
       "      <th>...</th>\n",
       "      <th>V33</th>\n",
       "      <th>U11</th>\n",
       "      <th>U12</th>\n",
       "      <th>U13</th>\n",
       "      <th>U21</th>\n",
       "      <th>U22</th>\n",
       "      <th>U23</th>\n",
       "      <th>U31</th>\n",
       "      <th>U32</th>\n",
       "      <th>U33</th>\n",
       "    </tr>\n",
       "  </thead>\n",
       "  <tbody>\n",
       "    <tr>\n",
       "      <th>0</th>\n",
       "      <td>0.13</td>\n",
       "      <td>0.013</td>\n",
       "      <td>0.0101</td>\n",
       "      <td>0.0201</td>\n",
       "      <td>0.000301</td>\n",
       "      <td>1010000.0</td>\n",
       "      <td>2010000.0</td>\n",
       "      <td>101000000.0</td>\n",
       "      <td>101.0</td>\n",
       "      <td>200.1</td>\n",
       "      <td>...</td>\n",
       "      <td>0.999993</td>\n",
       "      <td>0.999975</td>\n",
       "      <td>5.064344e-07</td>\n",
       "      <td>-0.007134</td>\n",
       "      <td>-8.793533e-07</td>\n",
       "      <td>1.0</td>\n",
       "      <td>-0.000052</td>\n",
       "      <td>0.007134</td>\n",
       "      <td>0.000052</td>\n",
       "      <td>0.999975</td>\n",
       "    </tr>\n",
       "  </tbody>\n",
       "</table>\n",
       "<p>1 rows × 57 columns</p>\n",
       "</div>"
      ],
      "text/plain": [
       "     L1     L6     L71     L72       L73       mu31       mu32         mu33  \\\n",
       "0  0.13  0.013  0.0101  0.0201  0.000301  1010000.0  2010000.0  101000000.0   \n",
       "\n",
       "      MN   MPsi    ...          V33       U11           U12       U13  \\\n",
       "0  101.0  200.1    ...     0.999993  0.999975  5.064344e-07 -0.007134   \n",
       "\n",
       "            U21  U22       U23       U31       U32       U33  \n",
       "0 -8.793533e-07  1.0 -0.000052  0.007134  0.000052  0.999975  \n",
       "\n",
       "[1 rows x 57 columns]"
      ]
     },
     "execution_count": 52,
     "metadata": {},
     "output_type": "execute_result"
    }
   ],
   "source": [
    "xd"
   ]
  },
  {
   "cell_type": "code",
   "execution_count": 53,
   "metadata": {},
   "outputs": [],
   "source": [
    "#Loop factor\n",
    "def LAMBDA(mj,mSi,Vj2,Uj1):\n",
    "    \n",
    "    Lji = 1./(16.*np.pi**2)*Vj2*Uj1*(mj**3/(mj**2-mSi**2))*np.log(mj**2/mSi**2)\n",
    "    \n",
    "    return Lji   "
   ]
  },
  {
   "cell_type": "code",
   "execution_count": null,
   "metadata": {},
   "outputs": [],
   "source": [
    "#Mab matrix. sum over i and j is expanded\n",
    "def Mab(YB1b,YB2b,YA1a,YA2a,m1,m2,ms1,ms2,V12,V22,U11,U21):\n",
    "    sumS1= (LAMBDA(m1, ms1, V12, U11)+LAMBDA(m2, ms1, V22, U21))*(YB1b*YA1a) \n",
    "    \n",
    "    sumS2= (LAMBDA(m1, ms2, V12, U11)+LAMBDA(m2, ms2, V22, U21))*(YB2b*YA2a) \n",
    "    \n",
    "    return sumS1 + sumS2"
   ]
  },
  {
   "cell_type": "code",
   "execution_count": null,
   "metadata": {},
   "outputs": [],
   "source": [
    "L1 = neutrino_analytic3.LAMBDA(M1,MS1,vv12,uu11)+neutrino_analytic3.LAMBDA(M2,MS1,vv22,uu21)\\\n",
    "    +neutrino_analytic3.LAMBDA(M3,MS1,vv32,uu31)\n",
    "\n",
    "L2 = neutrino_analytic3.LAMBDA(M1,MS2,vv12,uu11)+neutrino_analytic3.LAMBDA(M2,MS2,vv22,uu21)\\\n",
    "    +neutrino_analytic3.LAMBDA(M3,MS2,vv32,uu31)\n",
    "\n",
    "L3 = neutrino_analytic3.LAMBDA(M1,MS3,vv12,uu11)+neutrino_analytic3.LAMBDA(M2,MS3,vv22,uu21)\\\n",
    "    +neutrino_analytic3.LAMBDA(M3,MS3,vv32,uu31)"
   ]
  }
 ],
 "metadata": {
  "kernelspec": {
   "display_name": "Python 3",
   "language": "python",
   "name": "python3"
  },
  "language_info": {
   "codemirror_mode": {
    "name": "ipython",
    "version": 3
   },
   "file_extension": ".py",
   "mimetype": "text/x-python",
   "name": "python",
   "nbconvert_exporter": "python",
   "pygments_lexer": "ipython3",
   "version": "3.5.3"
  }
 },
 "nbformat": 4,
 "nbformat_minor": 1
}
