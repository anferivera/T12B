{
 "cells": [
  {
   "cell_type": "markdown",
   "metadata": {},
   "source": [
    "# T12B model: neutrino masses"
   ]
  },
  {
   "cell_type": "markdown",
   "metadata": {},
   "source": [
    "The idea is to check the anality expresion for neutrino masses with SPHENO. I will use a benchmark point"
   ]
  },
  {
   "cell_type": "markdown",
   "metadata": {},
   "source": [
    "### Rotation of no hermitian mass matrices"
   ]
  },
  {
   "cell_type": "markdown",
   "metadata": {},
   "source": [
    "Hermitian term:\n",
    "    \n",
    "$\\mathcal{L}_{\\text{mas}} = \\psi^{\\dagger} M \\psi$\n",
    "$\\to$\n",
    "$M_{\\text{diag}}=U^{-1}MU$\n",
    "\n",
    "No hermitian term:\n",
    " \n",
    "$\\mathcal{L}_{\\text{mas}} = \\psi_R^{\\dagger} M \\psi_L = \\psi_1^{\\dagger} M \\psi_2$\n",
    "$\\to$ $\\color{red}{M_{\\text{diag}}^2=V^{-1}MM^TV = U^{-1}M^TMU}$\n"
   ]
  },
  {
   "cell_type": "markdown",
   "metadata": {},
   "source": [
    "ie. the $V$ and $U$ matricess diagonalize the matrices $MM^T$ and $M^TM$ respectively\n",
    "\n",
    "such that: $\\Psi_1^i=V_{ij}\\psi_1^j$ and $\\Psi_2^i=U_{ij}\\psi_2^j$"
   ]
  },
  {
   "cell_type": "code",
   "execution_count": 1,
   "metadata": {},
   "outputs": [],
   "source": [
    "import numpy as np\n",
    "import pandas as pd\n",
    "import subprocess\n",
    "import time\n",
    "\n",
    "%matplotlib inline\n",
    "import matplotlib.pyplot as plt "
   ]
  },
  {
   "cell_type": "code",
   "execution_count": 2,
   "metadata": {},
   "outputs": [],
   "source": [
    "#good plots\n",
    "plt.rcParams.update({'font.size': 18}) \n",
    "#plt.rc('font',size='18')"
   ]
  },
  {
   "cell_type": "code",
   "execution_count": 3,
   "metadata": {},
   "outputs": [],
   "source": [
    "Gf = 1.16637000E-05\n",
    "vevSM = 1./np.sqrt(np.sqrt(2.)*Gf)"
   ]
  },
  {
   "cell_type": "markdown",
   "metadata": {},
   "source": [
    "# Neutrino masses for a benchmark point"
   ]
  },
  {
   "cell_type": "code",
   "execution_count": 4,
   "metadata": {},
   "outputs": [],
   "source": [
    "#!/usr/bin/env python\n",
    "import pyslha\n",
    "import pyT12B_LesHouches_generator\n",
    "import subprocess\n",
    "import sys\n",
    "import NEUTRINO2018\n",
    "import neutrino_analytic3\n",
    "import Yukawa_fij"
   ]
  },
  {
   "cell_type": "markdown",
   "metadata": {},
   "source": [
    "Runing firs time"
   ]
  },
  {
   "cell_type": "code",
   "execution_count": 5,
   "metadata": {},
   "outputs": [],
   "source": [
    "#Open for the first time\n",
    "xdict = pyT12B_LesHouches_generator.buildSLHAinFile()\n",
    "\n",
    "L1sm = 1.3e-1 #Warning\n",
    "L61 = 0.\n",
    "L62 = 0.\n",
    "L63 = 0.\n",
    "L71 = 0.\n",
    "L72 = 0.\n",
    "L73 = 0.\n",
    "mu31 = 1.01e6\n",
    "mu32 = 2.01e6\n",
    "mu33 = 1.01e8\n",
    "\n",
    "MN = np.exp(np.random.uniform(np.log(100.),np.log(200.)))\n",
    "MPsi = np.exp(np.random.uniform(np.log(200.),np.log(2000.)))\n",
    "Meta = np.exp(np.random.uniform(np.log(300.),np.log(2000.)))\n",
    "l1 = np.exp(np.random.uniform(np.log(1.0e+3),np.log(1.0e+6)))\n",
    "l2 = np.exp(np.random.uniform(np.log(1.0e+3),np.log(1.0e+6)))\n",
    "y1 = np.exp(np.random.uniform(np.log(1.0e-1),np.log(1.0e-6)))\n",
    "y2 = np.exp(np.random.uniform(np.log(1.0e-1),np.log(1.0e-6)))\n",
    "\n",
    "# Modific the LesHouches         \n",
    "xdict.blocks['MINPAR'].entries[1]='%.6E    # lambda1Input' %L1sm     \n",
    "xdict.blocks['MINPAR'].entries[2]='%.6E    # lambda61Input' %L61\n",
    "xdict.blocks['MINPAR'].entries[3]='%.6E    # lambda62Input' %L62\n",
    "xdict.blocks['MINPAR'].entries[4]='%.6E    # lambda63Input' %L63\n",
    "xdict.blocks['MINPAR'].entries[5]='%.6E    # lambda71Input' %L71   \n",
    "xdict.blocks['MINPAR'].entries[6]='%.6E    # lambda72Input' %L72   \n",
    "xdict.blocks['MINPAR'].entries[7]='%.6E    # lambda73Input' %L73       \n",
    "xdict.blocks['MINPAR'].entries[8]='%.6E    # mu31Input' %mu31\n",
    "xdict.blocks['MINPAR'].entries[9]='%.6E    # mu32Input' %mu32\n",
    "xdict.blocks['MINPAR'].entries[10]='%.6E    # mu33Input' %mu33\n",
    "\n",
    "xdict.blocks['MKIN'].entries[1]='%.6E    # MK' %1.0e+6\n",
    "\n",
    "xdict.blocks['MNIN'].entries[1]='%.6E    # MN' %MN\n",
    "xdict.blocks['MR1IN'].entries[1]='%.6E    # Mr1' %MPsi\n",
    "xdict.blocks['MR2IN'].entries[1]='%.6E    # Mr2' %Meta\n",
    "xdict.blocks['YLR1IN'].entries[1]='%.6E    # YlR1' %l1\n",
    "xdict.blocks['YLR2IN'].entries[1]='%.6E    # YlR2' %l2\n",
    "xdict.blocks['YYR1IN'].entries[1]='%.6E    # YyR1' %y1\n",
    "xdict.blocks['YYR2IN'].entries[1]='%.6E    # YyR2' %y2\n",
    "\n",
    "xdict.blocks['SPHENOINPUT'].entries[55]='%.i             # Calculate loop corrected masses' %0\n",
    "\n",
    "#Write the Leshouches file for the first time\n",
    "pyslha.writeSLHAFile('LesHouches.in.T12B_low',xdict)    \n",
    "\n",
    "#run SPheno for the first time\n",
    "spheno = subprocess.getoutput('../.././SPheno-4.0.3/bin/SPhenoT12B LesHouches.in.T12B_low')    \n",
    "SPheno_output = subprocess.getoutput('cat SPheno.spc.T12B')\n",
    "\n",
    "#Spheno to one loop???\n",
    "mmS1 = eval(SPheno_output.split('# Mass spectrum')[1].split()[10])\n",
    "mmS2 = eval(SPheno_output.split('# Mass spectrum')[1].split()[14])\n",
    "mmS3 = eval(SPheno_output.split('# Mass spectrum')[1].split()[18])\n",
    "\n",
    "#Anality to tree level\n",
    "MS1 = np.sqrt(mu31 + L71*vevSM**2/2.)\n",
    "MS2 = np.sqrt(mu32 + L72*vevSM**2/2.)\n",
    "MS3 = np.sqrt(mu33 + L73*vevSM**2/2.)\n",
    "#print(MS1,MS2,MS3)\n",
    "\n",
    "mx1 = eval(SPheno_output.split('Fe_3')[1].split()[1])\n",
    "mx2 = eval(SPheno_output.split('Fe_3')[1].split()[5])\n",
    "mx3 = eval(SPheno_output.split('Fe_3')[1].split()[9])\n",
    "\n",
    "U11 = eval(SPheno_output.split('Block LNEUTROMIX')[1].split()[6])\n",
    "U12 = eval(SPheno_output.split('Block LNEUTROMIX')[1].split()[11])\n",
    "U13 = eval(SPheno_output.split('Block LNEUTROMIX')[1].split()[16])\n",
    "U21 = eval(SPheno_output.split('Block LNEUTROMIX')[1].split()[21])\n",
    "U22 = eval(SPheno_output.split('Block LNEUTROMIX')[1].split()[26])\n",
    "U23 = eval(SPheno_output.split('Block LNEUTROMIX')[1].split()[31])\n",
    "U31 = eval(SPheno_output.split('Block LNEUTROMIX')[1].split()[36])\n",
    "U32 = eval(SPheno_output.split('Block LNEUTROMIX')[1].split()[41])\n",
    "U33 = eval(SPheno_output.split('Block LNEUTROMIX')[1].split()[46])\n",
    "\n",
    "V11 = eval(SPheno_output.split('Block RNEUTROMIX')[1].split()[6])\n",
    "V12 = eval(SPheno_output.split('Block RNEUTROMIX')[1].split()[11])\n",
    "V13 = eval(SPheno_output.split('Block RNEUTROMIX')[1].split()[16])\n",
    "V21 = eval(SPheno_output.split('Block RNEUTROMIX')[1].split()[21])\n",
    "V22 = eval(SPheno_output.split('Block RNEUTROMIX')[1].split()[26])\n",
    "V23 = eval(SPheno_output.split('Block RNEUTROMIX')[1].split()[31])\n",
    "V31 = eval(SPheno_output.split('Block RNEUTROMIX')[1].split()[36])\n",
    "V32 = eval(SPheno_output.split('Block RNEUTROMIX')[1].split()[41])\n",
    "V33 = eval(SPheno_output.split('Block RNEUTROMIX')[1].split()[46])\n",
    "\n",
    "L1 = neutrino_analytic3.LAMBDA(mx1, MS1, V21, U11) + neutrino_analytic3.LAMBDA(mx2, MS1, V22, U21) +\\\n",
    "        neutrino_analytic3.LAMBDA(mx3, MS1, V32, U31)\n",
    "L2 = neutrino_analytic3.LAMBDA(mx1, MS2, V21, U11) + neutrino_analytic3.LAMBDA(mx2, MS2, V22, U21) +\\\n",
    "        neutrino_analytic3.LAMBDA(mx3, MS2, V32, U31) \n",
    "L3 = neutrino_analytic3.LAMBDA(mx1, MS3, V21, U11) + neutrino_analytic3.LAMBDA(mx2, MS3, V22, U21) +\\\n",
    "        neutrino_analytic3.LAMBDA(mx3, MS3, V32, U31) \n",
    "\n",
    "Linv = np.array([[1./L1 ,0.,0],[0.,1./L2,0.],[0.,0.,1./L3]])\n",
    "\n",
    "out = Yukawa_fij.yuk_f()\n",
    "\n",
    "h = out[0]\n",
    "f = np.dot(out[1],Linv)\n",
    "mnu1 = ((out[2][1])[0,0])**2\n",
    "mnu2 = ((out[2][1])[1,1])**2\n",
    "mnu3 = ((out[2][1])[2,2])**2"
   ]
  },
  {
   "cell_type": "code",
   "execution_count": 6,
   "metadata": {},
   "outputs": [],
   "source": [
    "#ALGORITM:\n",
    "f11 = f[0,0]\n",
    "f21 = f[1,0]\n",
    "f31 = f[2,0]\n",
    "\n",
    "f12 = f[0,1]\n",
    "f22 = f[1,1]\n",
    "f32 = f[2,1]\n",
    "\n",
    "f13 = f[0,2]    \n",
    "f23 = f[1,2]\n",
    "f33 = f[2,2]\n",
    "\n",
    "h11 = h[0,0]\n",
    "h21 = h[1,0]\n",
    "h31 = h[2,0]\n",
    "\n",
    "h12 = h[0,1]\n",
    "h22 = h[1,1]\n",
    "h32 = h[2,1]\n",
    "\n",
    "h13 = h[0,2]\n",
    "h23 = h[1,2]\n",
    "h33 = h[2,2]"
   ]
  },
  {
   "cell_type": "code",
   "execution_count": 7,
   "metadata": {},
   "outputs": [],
   "source": [
    "x = []\n",
    "\n",
    "#Open for the second time\n",
    "xdict = pyT12B_LesHouches_generator.buildSLHAinFile()\n",
    "\n",
    "# Modific the LesHouches         \n",
    "xdict.blocks['MINPAR'].entries[1]='%.6E    # lambda1Input' %L1sm     \n",
    "xdict.blocks['MINPAR'].entries[2]='%.6E    # lambda61Input' %L61\n",
    "xdict.blocks['MINPAR'].entries[3]='%.6E    # lambda62Input' %L62\n",
    "xdict.blocks['MINPAR'].entries[4]='%.6E    # lambda63Input' %L63\n",
    "xdict.blocks['MINPAR'].entries[5]='%.6E    # lambda71Input' %L71   \n",
    "xdict.blocks['MINPAR'].entries[6]='%.6E    # lambda72Input' %L72   \n",
    "xdict.blocks['MINPAR'].entries[7]='%.6E    # lambda73Input' %L73       \n",
    "xdict.blocks['MINPAR'].entries[8]='%.6E    # mu31Input' %mu31\n",
    "xdict.blocks['MINPAR'].entries[9]='%.6E    # mu32Input' %mu32\n",
    "xdict.blocks['MINPAR'].entries[10]='%.6E    # mu33Input' %mu33\n",
    "\n",
    "xdict.blocks['MKIN'].entries[1]='%.6E    # MK' %1.0e+6\n",
    "\n",
    "xdict.blocks['MNIN'].entries[1]='%.6E    # MN' %MN\n",
    "xdict.blocks['MR1IN'].entries[1]='%.6E    # Mr1' %MPsi\n",
    "xdict.blocks['MR2IN'].entries[1]='%.6E    # Mr2' %Meta\n",
    "xdict.blocks['YLR1IN'].entries[1]='%.6E    # YlR1' %l1\n",
    "xdict.blocks['YLR2IN'].entries[1]='%.6E    # YlR2' %l2\n",
    "xdict.blocks['YYR1IN'].entries[1]='%.6E    # YyR1' %y1\n",
    "xdict.blocks['YYR2IN'].entries[1]='%.6E    # YyR2' %y2\n",
    "\n",
    "xdict.blocks['YHR1IN'].entries[1]='%.6E    # YhR1(1)' %h11 \n",
    "xdict.blocks['YHR1IN'].entries[2]='%.6E    # YhR1(2)' %h21\n",
    "xdict.blocks['YHR1IN'].entries[3]='%.6E    # YhR1(3)' %h31\n",
    "\n",
    "xdict.blocks['YHR2IN'].entries[1]='%.6E    # YhR2(1)' %h12 \n",
    "xdict.blocks['YHR2IN'].entries[2]='%.6E    # YhR2(2)' %h22\n",
    "xdict.blocks['YHR2IN'].entries[3]='%.6E    # YhR2(3)' %h32\n",
    "\n",
    "xdict.blocks['YHR3IN'].entries[1]='%.6E    # YhR3(1)' %h13 \n",
    "xdict.blocks['YHR3IN'].entries[2]='%.6E    # YhR3(2)' %h23\n",
    "xdict.blocks['YHR3IN'].entries[3]='%.6E    # YhR3(3)' %h33\n",
    "\n",
    "xdict.blocks['YFR1IN'].entries[1]='%.6E    # YfR1(1)' %f11 \n",
    "xdict.blocks['YFR1IN'].entries[2]='%.6E    # YfR1(2)' %f21\n",
    "xdict.blocks['YFR1IN'].entries[3]='%.6E    # YfR1(3)' %f31\n",
    "\n",
    "xdict.blocks['YFR2IN'].entries[1]='%.6E    # YfR2(1)' %f12 \n",
    "xdict.blocks['YFR2IN'].entries[2]='%.6E    # YfR2(2)' %f22\n",
    "xdict.blocks['YFR2IN'].entries[3]='%.6E    # YfR2(3)' %f32\n",
    "\n",
    "xdict.blocks['YFR3IN'].entries[1]='%.6E    # YfR3(1)' %f13 \n",
    "xdict.blocks['YFR3IN'].entries[2]='%.6E    # YfR3(2)' %f23\n",
    "xdict.blocks['YFR3IN'].entries[3]='%.6E    # YfR3(3)' %f33\n",
    "\n",
    "#Write the Leshouches file for the second time\n",
    "pyslha.writeSLHAFile('LesHouches.in.T12B_low',xdict)      \n",
    "\n",
    "#run SPheno for the second time\n",
    "spheno = subprocess.getoutput('../.././SPheno-4.0.3/bin/SPhenoT12B LesHouches.in.T12B_low')    \n",
    "SPheno_output = subprocess.getoutput('cat SPheno.spc.T12B')\n",
    "\n",
    "#Spheno to one loop???\n",
    "MS1 = eval(SPheno_output.split('# Mass spectrum')[1].split()[10])\n",
    "MS2 = eval(SPheno_output.split('# Mass spectrum')[1].split()[14])\n",
    "MS3 = eval(SPheno_output.split('# Mass spectrum')[1].split()[18])\n",
    "\n",
    "#Anality to tree level\n",
    "#MS1 = np.sqrt(mu31 + L71*vevSM**2/2.)\n",
    "#MS2 = np.sqrt(mu32 + L72*vevSM**2/2.)\n",
    "#MS3 = np.sqrt(mu33 + L73*vevSM**2/2.)\n",
    "\n",
    "mx1 = eval(SPheno_output.split('Fe_3')[1].split()[1])\n",
    "mx2 = eval(SPheno_output.split('Fe_3')[1].split()[5])\n",
    "mx3 = eval(SPheno_output.split('Fe_3')[1].split()[9])\n",
    "\n",
    "U11 = eval(SPheno_output.split('Block LNEUTROMIX')[1].split()[6])\n",
    "U12 = eval(SPheno_output.split('Block LNEUTROMIX')[1].split()[11])\n",
    "U13 = eval(SPheno_output.split('Block LNEUTROMIX')[1].split()[16])\n",
    "U21 = eval(SPheno_output.split('Block LNEUTROMIX')[1].split()[21])\n",
    "U22 = eval(SPheno_output.split('Block LNEUTROMIX')[1].split()[26])\n",
    "U23 = eval(SPheno_output.split('Block LNEUTROMIX')[1].split()[31])\n",
    "U31 = eval(SPheno_output.split('Block LNEUTROMIX')[1].split()[36])\n",
    "U32 = eval(SPheno_output.split('Block LNEUTROMIX')[1].split()[41])\n",
    "U33 = eval(SPheno_output.split('Block LNEUTROMIX')[1].split()[46])\n",
    "\n",
    "V11 = eval(SPheno_output.split('Block RNEUTROMIX')[1].split()[6])\n",
    "V12 = eval(SPheno_output.split('Block RNEUTROMIX')[1].split()[11])\n",
    "V13 = eval(SPheno_output.split('Block RNEUTROMIX')[1].split()[16])\n",
    "V21 = eval(SPheno_output.split('Block RNEUTROMIX')[1].split()[21])\n",
    "V22 = eval(SPheno_output.split('Block RNEUTROMIX')[1].split()[26])\n",
    "V23 = eval(SPheno_output.split('Block RNEUTROMIX')[1].split()[31])\n",
    "V31 = eval(SPheno_output.split('Block RNEUTROMIX')[1].split()[36])\n",
    "V32 = eval(SPheno_output.split('Block RNEUTROMIX')[1].split()[41])\n",
    "V33 = eval(SPheno_output.split('Block RNEUTROMIX')[1].split()[46])\n",
    "\n",
    "##++++++++++ Neutrinos +++++++++++++++++++++++++++++++++\n",
    "if SPheno_output.split('# Fk')[1].split()[1] == \"NaN\":\n",
    "    mv1 = 0.\n",
    "else: \n",
    "    mv1 = eval(SPheno_output.split('# Fk')[1].split()[1])           \n",
    "mv2 = eval(SPheno_output.split('# Fk')[1].split()[5])       \n",
    "mv3 = eval(SPheno_output.split('# Fk')[1].split()[9])  \n",
    "\n",
    "x.append([L1,L61,L71,L72,L73,mu31,mu32,mu33,MN,MPsi,Meta,l1,l2,y1,y2,h11,h21,h31,h12,h22,h32,h13,h23,h33,f11,f21,f31,\\\n",
    "          f12,f22,f32,f13,f23,f33,mv1,mv2,mv3,MS1,MS2,MS3,mx1,mx2,mx3,V11,V12,V13,V21,V22,V23,V31,V32,V33,\\\n",
    "          U11,U12,U13,U21,U22,U23,U31,U32,U33])\n",
    "\n",
    "x=np.asarray(x)\n",
    "    \n",
    "xd=pd.DataFrame(x,columns=['L1','L61','L71','L72','L73','mu31','mu32','mu33','MN','MPsi','Meta','l1','l2','y1','y2',\\\n",
    "                           'h11','h21','h31','h12','h22','h32','h13','h23','h33','f11','f21','f31','f12','f22',\\\n",
    "                           'f32','f13','f23','f33','mv1','mv2','mv3','MS1','MS2','MS3','mx1','mx2','mx3',\\\n",
    "                           'V11','V12','V13','V21','V22','V23','V31','V32','V33','U11','U12','U13','U21',\\\n",
    "                           'U22','U23','U31','U32','U33'])       "
   ]
  },
  {
   "cell_type": "code",
   "execution_count": 8,
   "metadata": {},
   "outputs": [
    {
     "name": "stdout",
     "output_type": "stream",
     "text": [
      "EXPERIMENTAL:\n",
      "mnu2= 8.61359758388e-12 mnu3= 5.06012461439e-11\n",
      "===============================================\n",
      "SPHENO:\n",
      "mv2= 1.24407617e-11 mv3= 6.93793384e-11\n",
      "===============================================\n"
     ]
    }
   ],
   "source": [
    "print(\"EXPERIMENTAL:\")\n",
    "print(\"mnu2=\",mnu2,\"mnu3=\",mnu3)\n",
    "print(\"===============================================\")\n",
    "print(\"SPHENO:\")\n",
    "print(\"mv2=\",mv2,\"mv3=\",mv3)\n",
    "print(\"===============================================\")"
   ]
  },
  {
   "cell_type": "code",
   "execution_count": 9,
   "metadata": {},
   "outputs": [
    {
     "name": "stdout",
     "output_type": "stream",
     "text": [
      "0.692368987655 0.729341722058\n"
     ]
    }
   ],
   "source": [
    "#Factor\n",
    "print(mnu2/mv2,mnu3/mv3)"
   ]
  },
  {
   "cell_type": "code",
   "execution_count": null,
   "metadata": {},
   "outputs": [],
   "source": []
  },
  {
   "cell_type": "code",
   "execution_count": 10,
   "metadata": {},
   "outputs": [
    {
     "data": {
      "text/plain": [
       "0.0"
      ]
     },
     "execution_count": 10,
     "metadata": {},
     "output_type": "execute_result"
    }
   ],
   "source": [
    "xd.MS1[0]"
   ]
  },
  {
   "cell_type": "code",
   "execution_count": 11,
   "metadata": {},
   "outputs": [
    {
     "name": "stderr",
     "output_type": "stream",
     "text": [
      "/home/anferivera/Work/Documents_compartidos/T12B/neutrino_analytic3.py:15: RuntimeWarning: divide by zero encountered in log\n",
      "  Lji = 1./(16.*np.pi**2)*Vj2*Uj1*mj*( (mj**2*np.log(mj**2) - mSi**2*np.log(mSi**2))/(mj**2-mSi**2))\n",
      "/home/anferivera/Work/Documents_compartidos/T12B/neutrino_analytic3.py:15: RuntimeWarning: invalid value encountered in double_scalars\n",
      "  Lji = 1./(16.*np.pi**2)*Vj2*Uj1*mj*( (mj**2*np.log(mj**2) - mSi**2*np.log(mSi**2))/(mj**2-mSi**2))\n"
     ]
    },
    {
     "ename": "LinAlgError",
     "evalue": "Array must not contain infs or NaNs",
     "output_type": "error",
     "traceback": [
      "\u001b[0;31m---------------------------------------------------------------------------\u001b[0m",
      "\u001b[0;31mLinAlgError\u001b[0m                               Traceback (most recent call last)",
      "\u001b[0;32m<ipython-input-11-dd1bd10c8607>\u001b[0m in \u001b[0;36m<module>\u001b[0;34m\u001b[0m\n\u001b[1;32m      3\u001b[0m                     \u001b[0mxd\u001b[0m\u001b[0;34m.\u001b[0m\u001b[0mf11\u001b[0m\u001b[0;34m[\u001b[0m\u001b[0;36m0\u001b[0m\u001b[0;34m]\u001b[0m\u001b[0;34m,\u001b[0m\u001b[0mxd\u001b[0m\u001b[0;34m.\u001b[0m\u001b[0mf12\u001b[0m\u001b[0;34m[\u001b[0m\u001b[0;36m0\u001b[0m\u001b[0;34m]\u001b[0m\u001b[0;34m,\u001b[0m\u001b[0mxd\u001b[0m\u001b[0;34m.\u001b[0m\u001b[0mf13\u001b[0m\u001b[0;34m[\u001b[0m\u001b[0;36m0\u001b[0m\u001b[0;34m]\u001b[0m\u001b[0;34m,\u001b[0m\u001b[0mxd\u001b[0m\u001b[0;34m.\u001b[0m\u001b[0mf21\u001b[0m\u001b[0;34m[\u001b[0m\u001b[0;36m0\u001b[0m\u001b[0;34m]\u001b[0m\u001b[0;34m,\u001b[0m\u001b[0mxd\u001b[0m\u001b[0;34m.\u001b[0m\u001b[0mf22\u001b[0m\u001b[0;34m[\u001b[0m\u001b[0;36m0\u001b[0m\u001b[0;34m]\u001b[0m\u001b[0;34m,\u001b[0m\u001b[0mxd\u001b[0m\u001b[0;34m.\u001b[0m\u001b[0mf23\u001b[0m\u001b[0;34m[\u001b[0m\u001b[0;36m0\u001b[0m\u001b[0;34m]\u001b[0m\u001b[0;34m,\u001b[0m\u001b[0mxd\u001b[0m\u001b[0;34m.\u001b[0m\u001b[0mf31\u001b[0m\u001b[0;34m[\u001b[0m\u001b[0;36m0\u001b[0m\u001b[0;34m]\u001b[0m\u001b[0;34m,\u001b[0m\u001b[0mxd\u001b[0m\u001b[0;34m.\u001b[0m\u001b[0mf32\u001b[0m\u001b[0;34m[\u001b[0m\u001b[0;36m0\u001b[0m\u001b[0;34m]\u001b[0m\u001b[0;34m,\u001b[0m\u001b[0mxd\u001b[0m\u001b[0;34m.\u001b[0m\u001b[0mf33\u001b[0m\u001b[0;34m[\u001b[0m\u001b[0;36m0\u001b[0m\u001b[0;34m]\u001b[0m\u001b[0;34m,\u001b[0m\u001b[0;31m\\\u001b[0m\u001b[0;34m\u001b[0m\u001b[0m\n\u001b[1;32m      4\u001b[0m                     \u001b[0mxd\u001b[0m\u001b[0;34m.\u001b[0m\u001b[0mMS1\u001b[0m\u001b[0;34m[\u001b[0m\u001b[0;36m0\u001b[0m\u001b[0;34m]\u001b[0m\u001b[0;34m,\u001b[0m\u001b[0mxd\u001b[0m\u001b[0;34m.\u001b[0m\u001b[0mMS2\u001b[0m\u001b[0;34m[\u001b[0m\u001b[0;36m0\u001b[0m\u001b[0;34m]\u001b[0m\u001b[0;34m,\u001b[0m\u001b[0mxd\u001b[0m\u001b[0;34m.\u001b[0m\u001b[0mMS3\u001b[0m\u001b[0;34m[\u001b[0m\u001b[0;36m0\u001b[0m\u001b[0;34m]\u001b[0m\u001b[0;34m,\u001b[0m\u001b[0mxd\u001b[0m\u001b[0;34m.\u001b[0m\u001b[0mmx1\u001b[0m\u001b[0;34m[\u001b[0m\u001b[0;36m0\u001b[0m\u001b[0;34m]\u001b[0m\u001b[0;34m,\u001b[0m\u001b[0mxd\u001b[0m\u001b[0;34m.\u001b[0m\u001b[0mmx2\u001b[0m\u001b[0;34m[\u001b[0m\u001b[0;36m0\u001b[0m\u001b[0;34m]\u001b[0m\u001b[0;34m,\u001b[0m\u001b[0mxd\u001b[0m\u001b[0;34m.\u001b[0m\u001b[0mmx3\u001b[0m\u001b[0;34m[\u001b[0m\u001b[0;36m0\u001b[0m\u001b[0;34m]\u001b[0m\u001b[0;34m,\u001b[0m\u001b[0mxd\u001b[0m\u001b[0;34m.\u001b[0m\u001b[0mV12\u001b[0m\u001b[0;34m[\u001b[0m\u001b[0;36m0\u001b[0m\u001b[0;34m]\u001b[0m\u001b[0;34m,\u001b[0m\u001b[0mxd\u001b[0m\u001b[0;34m.\u001b[0m\u001b[0mV22\u001b[0m\u001b[0;34m[\u001b[0m\u001b[0;36m0\u001b[0m\u001b[0;34m]\u001b[0m\u001b[0;34m,\u001b[0m\u001b[0mxd\u001b[0m\u001b[0;34m.\u001b[0m\u001b[0mV32\u001b[0m\u001b[0;34m[\u001b[0m\u001b[0;36m0\u001b[0m\u001b[0;34m]\u001b[0m\u001b[0;34m,\u001b[0m\u001b[0;31m\\\u001b[0m\u001b[0;34m\u001b[0m\u001b[0m\n\u001b[0;32m----> 5\u001b[0;31m                     xd.U11[0],xd.U21[0],xd.U31[0])\n\u001b[0m",
      "\u001b[0;32m~/Work/Documents_compartidos/T12B/neutrino_analytic3.py\u001b[0m in \u001b[0;36mMATRIX_NU_DIAG\u001b[0;34m(h11, h12, h13, h21, h22, h23, h31, h32, h33, f11, f12, f13, f21, f22, f23, f31, f32, f33, ms1, ms2, ms3, m1, m2, m3, V12, V22, V32, U11, U21, U31)\u001b[0m\n\u001b[1;32m     51\u001b[0m \u001b[0;34m\u001b[0m\u001b[0m\n\u001b[1;32m     52\u001b[0m     \u001b[0;31m#eigenvalues e eigenvectors\u001b[0m\u001b[0;34m\u001b[0m\u001b[0;34m\u001b[0m\u001b[0m\n\u001b[0;32m---> 53\u001b[0;31m     \u001b[0;34m(\u001b[0m\u001b[0mMdiag2\u001b[0m\u001b[0;34m,\u001b[0m\u001b[0mV\u001b[0m\u001b[0;34m)\u001b[0m\u001b[0;34m=\u001b[0m\u001b[0mnp\u001b[0m\u001b[0;34m.\u001b[0m\u001b[0mlinalg\u001b[0m\u001b[0;34m.\u001b[0m\u001b[0meig\u001b[0m\u001b[0;34m(\u001b[0m\u001b[0mMvij\u001b[0m\u001b[0;34m*\u001b[0m\u001b[0mnp\u001b[0m\u001b[0;34m.\u001b[0m\u001b[0mtranspose\u001b[0m\u001b[0;34m(\u001b[0m\u001b[0mMvij\u001b[0m\u001b[0;34m)\u001b[0m\u001b[0;34m)\u001b[0m\u001b[0;34m\u001b[0m\u001b[0m\n\u001b[0m\u001b[1;32m     54\u001b[0m \u001b[0;34m\u001b[0m\u001b[0m\n\u001b[1;32m     55\u001b[0m     \u001b[0;31m#took eigenvalues\u001b[0m\u001b[0;34m\u001b[0m\u001b[0;34m\u001b[0m\u001b[0m\n",
      "\u001b[0;32m/usr/lib/python3/dist-packages/numpy/linalg/linalg.py\u001b[0m in \u001b[0;36meig\u001b[0;34m(a)\u001b[0m\n\u001b[1;32m   1141\u001b[0m     \u001b[0m_assertRankAtLeast2\u001b[0m\u001b[0;34m(\u001b[0m\u001b[0ma\u001b[0m\u001b[0;34m)\u001b[0m\u001b[0;34m\u001b[0m\u001b[0m\n\u001b[1;32m   1142\u001b[0m     \u001b[0m_assertNdSquareness\u001b[0m\u001b[0;34m(\u001b[0m\u001b[0ma\u001b[0m\u001b[0;34m)\u001b[0m\u001b[0;34m\u001b[0m\u001b[0m\n\u001b[0;32m-> 1143\u001b[0;31m     \u001b[0m_assertFinite\u001b[0m\u001b[0;34m(\u001b[0m\u001b[0ma\u001b[0m\u001b[0;34m)\u001b[0m\u001b[0;34m\u001b[0m\u001b[0m\n\u001b[0m\u001b[1;32m   1144\u001b[0m     \u001b[0mt\u001b[0m\u001b[0;34m,\u001b[0m \u001b[0mresult_t\u001b[0m \u001b[0;34m=\u001b[0m \u001b[0m_commonType\u001b[0m\u001b[0;34m(\u001b[0m\u001b[0ma\u001b[0m\u001b[0;34m)\u001b[0m\u001b[0;34m\u001b[0m\u001b[0m\n\u001b[1;32m   1145\u001b[0m \u001b[0;34m\u001b[0m\u001b[0m\n",
      "\u001b[0;32m/usr/lib/python3/dist-packages/numpy/linalg/linalg.py\u001b[0m in \u001b[0;36m_assertFinite\u001b[0;34m(*arrays)\u001b[0m\n\u001b[1;32m    215\u001b[0m     \u001b[0;32mfor\u001b[0m \u001b[0ma\u001b[0m \u001b[0;32min\u001b[0m \u001b[0marrays\u001b[0m\u001b[0;34m:\u001b[0m\u001b[0;34m\u001b[0m\u001b[0m\n\u001b[1;32m    216\u001b[0m         \u001b[0;32mif\u001b[0m \u001b[0;32mnot\u001b[0m \u001b[0;34m(\u001b[0m\u001b[0misfinite\u001b[0m\u001b[0;34m(\u001b[0m\u001b[0ma\u001b[0m\u001b[0;34m)\u001b[0m\u001b[0;34m.\u001b[0m\u001b[0mall\u001b[0m\u001b[0;34m(\u001b[0m\u001b[0;34m)\u001b[0m\u001b[0;34m)\u001b[0m\u001b[0;34m:\u001b[0m\u001b[0;34m\u001b[0m\u001b[0m\n\u001b[0;32m--> 217\u001b[0;31m             \u001b[0;32mraise\u001b[0m \u001b[0mLinAlgError\u001b[0m\u001b[0;34m(\u001b[0m\u001b[0;34m\"Array must not contain infs or NaNs\"\u001b[0m\u001b[0;34m)\u001b[0m\u001b[0;34m\u001b[0m\u001b[0m\n\u001b[0m\u001b[1;32m    218\u001b[0m \u001b[0;34m\u001b[0m\u001b[0m\n\u001b[1;32m    219\u001b[0m \u001b[0;32mdef\u001b[0m \u001b[0m_assertNoEmpty2d\u001b[0m\u001b[0;34m(\u001b[0m\u001b[0;34m*\u001b[0m\u001b[0marrays\u001b[0m\u001b[0;34m)\u001b[0m\u001b[0;34m:\u001b[0m\u001b[0;34m\u001b[0m\u001b[0m\n",
      "\u001b[0;31mLinAlgError\u001b[0m: Array must not contain infs or NaNs"
     ]
    }
   ],
   "source": [
    "#run anality\n",
    "MM = neutrino_analytic3.MATRIX_NU_DIAG(xd.h11[0],xd.h12[0],xd.h13[0],xd.h21[0],xd.h22[0],xd.h23[0],xd.h31[0],xd.h32[0],xd.h33[0],\\\n",
    "                    xd.f11[0],xd.f12[0],xd.f13[0],xd.f21[0],xd.f22[0],xd.f23[0],xd.f31[0],xd.f32[0],xd.f33[0],\\\n",
    "                    xd.MS1[0],xd.MS2[0],xd.MS3[0],xd.mx1[0],xd.mx2[0],xd.mx3[0],xd.V12[0],xd.V22[0],xd.V32[0],\\\n",
    "                    xd.U11[0],xd.U21[0],xd.U31[0])"
   ]
  },
  {
   "cell_type": "code",
   "execution_count": null,
   "metadata": {},
   "outputs": [],
   "source": [
    "print(\"EXPERIMENTAL:\")\n",
    "print(\"mnu2=\",mnu2,\"mnu3=\",mnu3)\n",
    "print(\"===============================================\")\n",
    "print(\"SPHENO:\")\n",
    "print(\"mv2=\",mv2,\"mv3=\",mv3)\n",
    "print(\"===============================================\")\n",
    "print(\"ANALITY:\")\n",
    "print(\"mv2=\",MM[1],\"mv3=\",MM[2])\n",
    "print(\"===============================================\")"
   ]
  },
  {
   "cell_type": "code",
   "execution_count": null,
   "metadata": {},
   "outputs": [],
   "source": [
    "'''\n",
    "EXPERIMENTAL:\n",
    "mnu2= 8.91377054334e-12 mnu3= 5.07939082961e-11\n",
    "===============================================\n",
    "SPHENO:\n",
    "mv2= 8.07700672e-12 mv3= 5.2931947e-11\n",
    "===============================================\n",
    "ANALITY:\n",
    "mv2= 9.13512007578e-12 mv3= 5.50891219222e-11\n",
    "===============================================\n",
    "'''"
   ]
  },
  {
   "cell_type": "code",
   "execution_count": null,
   "metadata": {},
   "outputs": [],
   "source": []
  },
  {
   "cell_type": "markdown",
   "metadata": {},
   "source": [
    "Add to the DataFrame"
   ]
  },
  {
   "cell_type": "code",
   "execution_count": null,
   "metadata": {},
   "outputs": [],
   "source": [
    "y=[]\n",
    "for i in range(0,xd.shape[0]):\n",
    "    \n",
    "    kk = neutrino_analytic3.MATRIX_NU_DIAG(xd.h11[i],xd.h12[i],xd.h13[i],xd.h21[i],xd.h22[i],xd.h23[i],xd.h31[i],\\\n",
    "                                           xd.h32[i],xd.h33[i],xd.f11[i],xd.f12[i],xd.f13[i],xd.f21[i],xd.f22[i],\\\n",
    "                                           xd.f23[i],xd.f31[i],xd.f32[i],xd.f33[i],xd.MS1[i],xd.MS2[i],xd.MS3[i],\\\n",
    "                                           xd.mx1[i],xd.mx2[i],xd.mx3[i],xd.V12[i],xd.V22[i],xd.V32[i],xd.U11[i],\\\n",
    "                                           xd.U21[i],xd.U31[i])\n",
    "    mn1 = kk[0]\n",
    "    mn2 = kk[1]\n",
    "    mn3 = kk[2]\n",
    "    \n",
    "    y.append([mn1,mn2,mn3])\n",
    "    \n",
    "y=np.asarray(y)\n",
    "    \n",
    "yd=pd.DataFrame(y,columns=['mn1','mn2','mn3'])     "
   ]
  },
  {
   "cell_type": "code",
   "execution_count": null,
   "metadata": {},
   "outputs": [],
   "source": [
    "yd[:3]"
   ]
  },
  {
   "cell_type": "code",
   "execution_count": null,
   "metadata": {},
   "outputs": [],
   "source": [
    "plt.figure(figsize=(8,6))\n",
    "\n",
    "#plt.loglog(xd.mv1,yd.mn1,'ro')\n",
    "plt.loglog(xd.mv2,yd.mn2,'bo')\n",
    "plt.loglog(xd.mv3,yd.mn3,'go')\n",
    "\n",
    "a = np.linspace(1e-13,1e-10,10)\n",
    "plt.plot(a,a,'r-')\n",
    "\n",
    "plt.xlabel(r'$m_i$SPHENO (GeV)',size=25)\n",
    "plt.ylabel(r'$m_i$Analytic (GeV)',size=25)\n",
    "plt.legend()\n",
    "\n",
    "plt.grid()\n",
    "\n",
    "plt.tight_layout()\n",
    "#plt.savefig('plots/neutrino_masses_NH.pdf')"
   ]
  },
  {
   "cell_type": "code",
   "execution_count": null,
   "metadata": {},
   "outputs": [],
   "source": [
    "xd['mv1'][:3]"
   ]
  },
  {
   "cell_type": "code",
   "execution_count": null,
   "metadata": {},
   "outputs": [],
   "source": [
    "yd['mn1'][:3]"
   ]
  },
  {
   "cell_type": "markdown",
   "metadata": {},
   "source": [
    "Longas overleaf notes"
   ]
  },
  {
   "cell_type": "markdown",
   "metadata": {},
   "source": [
    "$$\n",
    "\\sum_{i=1}^3 m_{\\chi^0_l} U_{2l}^{*}V_{1l} = 0\n",
    "$$"
   ]
  },
  {
   "cell_type": "code",
   "execution_count": null,
   "metadata": {
    "scrolled": true
   },
   "outputs": [],
   "source": [
    "mx1*U21*V11 + mx2*U22*V12 + mx3*U23*V13"
   ]
  },
  {
   "cell_type": "markdown",
   "metadata": {},
   "source": [
    "me"
   ]
  },
  {
   "cell_type": "markdown",
   "metadata": {},
   "source": [
    "$$\n",
    "\\sum_{i=1}^3 m_{\\chi^0_l} U_{j1}^{*}V_{j2} = 0\n",
    "$$"
   ]
  },
  {
   "cell_type": "code",
   "execution_count": null,
   "metadata": {},
   "outputs": [],
   "source": [
    "mx1*U11*V12 + mx2*U21*V22 + mx3*U31*V32"
   ]
  },
  {
   "cell_type": "code",
   "execution_count": null,
   "metadata": {},
   "outputs": [],
   "source": [
    "xd.mx1*xd.U11*xd.V12 + xd.mx2*xd.U21*xd.V22 + xd.mx3*xd.U31*xd.V32"
   ]
  },
  {
   "cell_type": "code",
   "execution_count": null,
   "metadata": {},
   "outputs": [],
   "source": []
  },
  {
   "cell_type": "code",
   "execution_count": null,
   "metadata": {},
   "outputs": [],
   "source": [
    "xd.mx1*xd.V11*xd.U12 + xd.mx2*xd.V21*xd.U22 + xd.mx3*xd.V31*xd.U32"
   ]
  },
  {
   "cell_type": "markdown",
   "metadata": {},
   "source": []
  }
 ],
 "metadata": {
  "kernelspec": {
   "display_name": "Python 3",
   "language": "python",
   "name": "python3"
  },
  "language_info": {
   "codemirror_mode": {
    "name": "ipython",
    "version": 3
   },
   "file_extension": ".py",
   "mimetype": "text/x-python",
   "name": "python",
   "nbconvert_exporter": "python",
   "pygments_lexer": "ipython3",
   "version": "3.5.3"
  }
 },
 "nbformat": 4,
 "nbformat_minor": 1
}
