{
 "cells": [
  {
   "cell_type": "markdown",
   "metadata": {},
   "source": [
    "## T12B model: $\\mu\\to e\\gamma$"
   ]
  },
  {
   "cell_type": "code",
   "execution_count": 1,
   "metadata": {},
   "outputs": [],
   "source": [
    "import numpy as np\n",
    "import pandas as pd\n",
    "import subprocess\n",
    "import time\n",
    "\n",
    "%matplotlib inline\n",
    "import matplotlib.pyplot as plt "
   ]
  },
  {
   "cell_type": "code",
   "execution_count": 2,
   "metadata": {},
   "outputs": [],
   "source": [
    "#good plots\n",
    "plt.rcParams.update({'font.size': 18}) \n",
    "#plt.rc('font',size='18')"
   ]
  },
  {
   "cell_type": "markdown",
   "metadata": {},
   "source": [
    "# General scan"
   ]
  },
  {
   "cell_type": "code",
   "execution_count": 3,
   "metadata": {},
   "outputs": [
    {
     "name": "stdout",
     "output_type": "stream",
     "text": [
      "The program spent 2.497995376586914 s running 30 times\n"
     ]
    }
   ],
   "source": [
    "#!/usr/bin/env python\n",
    "\n",
    "import pyslha\n",
    "import pyT12B_LesHouches_generator\n",
    "import numpy as np\n",
    "import pandas as pd\n",
    "import subprocess\n",
    "import time\n",
    "import sys\n",
    "\n",
    "# Tiempo inicial\n",
    "t1=time.time() \n",
    "\n",
    "xdict = pyT12B_LesHouches_generator.buildSLHAinFile()\n",
    "\n",
    "x=[]\n",
    "\n",
    "Num = 30\n",
    "\n",
    "for n in range(0,Num):\n",
    "    \n",
    "    Lambda1 = 1.3e-1 #Warning\n",
    "    L6 = 1.300000E-02\n",
    "    \n",
    "    mu31 = 1.01e6\n",
    "    mu32 = 2.01e6\n",
    "    mu33 = 1.01e8\n",
    "    L71 = 1.01e-2\n",
    "    L72 = 2.01e-2\n",
    "    L73 = 3.01e-4\n",
    "    \n",
    "    MN = 101.0\n",
    "    MPsi = 200.1\n",
    "    Meta = 301.1\n",
    "    l1 = 1.02e-2\n",
    "    l2 = 2.01e-3\n",
    "    y1 = 1.01e-2\n",
    "    y2 = 2.1e-3\n",
    "    \n",
    "    # Modific the LesHouches         \n",
    "    xdict.blocks['MINPAR'].entries[1]='%.6E    # lambda1Input' %Lambda1     \n",
    "    xdict.blocks['MINPAR'].entries[2]='%.6E    # lambda61Input' %L6 \n",
    "    xdict.blocks['MINPAR'].entries[5]='%.6E    # lambda71Input' %L71   \n",
    "    xdict.blocks['MINPAR'].entries[6]='%.6E    # lambda72Input' %L72   \n",
    "    xdict.blocks['MINPAR'].entries[7]='%.6E    # lambda73Input' %L73       \n",
    "    xdict.blocks['MINPAR'].entries[8]='%.6E    # mu31Input' %mu31\n",
    "    xdict.blocks['MINPAR'].entries[9]='%.6E    # mu32Input' %mu32\n",
    "    xdict.blocks['MINPAR'].entries[10]='%.6E    # mu33Input' %mu33\n",
    "        \n",
    "    xdict.blocks['MNIN'].entries[1]='%.6E    # MN' %MN\n",
    "    xdict.blocks['MR1IN'].entries[1]='%.6E    # Mr1' %MPsi\n",
    "    xdict.blocks['MR2IN'].entries[1]='%.6E    # Mr2' %Meta\n",
    "    xdict.blocks['YLR1IN'].entries[1]='%.6E    # YlR1' %l1\n",
    "    xdict.blocks['YLR2IN'].entries[1]='%.6E    # YlR2' %l2\n",
    "    xdict.blocks['YYR1IN'].entries[1]='%.6E    # YyR1' %y1\n",
    "    xdict.blocks['YYR2IN'].entries[1]='%.6E    # YyR2' %y2\n",
    "\n",
    "    h11 = np.exp(np.random.uniform(np.log(10**(-3)),np.log(10**(-1))))\n",
    "    h12 = np.exp(np.random.uniform(np.log(10**(-3)),np.log(10**(-1))))\n",
    "    h13 = np.exp(np.random.uniform(np.log(10**(-3)),np.log(10**(-1))))\n",
    "    \n",
    "    h21 = np.exp(np.random.uniform(np.log(10**(-3)),np.log(10**(-1))))\n",
    "    h22 = np.exp(np.random.uniform(np.log(10**(-3)),np.log(10**(-1))))\n",
    "    h23 = np.exp(np.random.uniform(np.log(10**(-3)),np.log(10**(-1))))\n",
    "    \n",
    "    h31 = np.exp(np.random.uniform(np.log(10**(-3)),np.log(10**(-1))))\n",
    "    h32 = np.exp(np.random.uniform(np.log(10**(-3)),np.log(10**(-1))))\n",
    "    h33 = np.exp(np.random.uniform(np.log(10**(-3)),np.log(10**(-1))))\n",
    "    \n",
    "    xdict.blocks['YHR1IN'].entries[1]='%.6E    # YhR1(1)' %h11\n",
    "    xdict.blocks['YHR1IN'].entries[2]='%.6E    # YhR1(2)' %h12\n",
    "    xdict.blocks['YHR1IN'].entries[3]='%.6E    # YhR1(3)' %h13\n",
    "    \n",
    "    xdict.blocks['YHR2IN'].entries[1]='%.6E    # YhR2(1)' %h21\n",
    "    xdict.blocks['YHR2IN'].entries[2]='%.6E    # YhR2(2)' %h22\n",
    "    xdict.blocks['YHR2IN'].entries[3]='%.6E    # YhR2(3)' %h23\n",
    "    \n",
    "    xdict.blocks['YHR3IN'].entries[1]='%.6E    # YhR3(1)' %h31\n",
    "    xdict.blocks['YHR3IN'].entries[2]='%.6E    # YhR3(2)' %h32\n",
    "    xdict.blocks['YHR3IN'].entries[3]='%.6E    # YhR3(3)' %h33\n",
    "    \n",
    "    #write\n",
    "    pyslha.writeSLHAFile('LesHouches.in.T12B_low',xdict)    \n",
    "    \n",
    "    #run SPheno\n",
    "    spheno = subprocess.getoutput('../.././SPheno-4.0.3/bin/SPhenoT12B LesHouches.in.T12B_low')    \n",
    "    so = subprocess.getoutput('cat SPheno.spc.T12B')\n",
    "    \n",
    "    if so.split('# Fk')[1].split()[1] == \"NaN\":\n",
    "        mv1 = 0.\n",
    "    else: \n",
    "        mv1 = eval(so.split('# Fk')[1].split()[1])           \n",
    "    mv2 = eval(so.split('# Fk')[1].split()[5])       \n",
    "    mv3 = eval(so.split('# Fk')[1].split()[9]) \n",
    "    \n",
    "    #Diracneutros\n",
    "    mFn1 = eval(so.split('# Fe_3')[1].split()[1])\n",
    "    mFn2 = eval(so.split('# Fe_3')[1].split()[5])\n",
    "    mFn3 = eval(so.split('# Fe_3')[1].split()[9])\n",
    "    #charged leptons\n",
    "    mFr1 = eval(so.split('# Fe_3')[1].split()[13])\n",
    "    mFr2 = eval(so.split('# Fe_3')[1].split()[17])\n",
    "    #exotic quark\n",
    "    mFk = eval(so.split('# Fe_3')[1].split()[21])\n",
    "    #Neutral scalars\n",
    "    ms01 = eval(so.split('#   PDG code')[1].split()[7])\n",
    "    ms02 = eval(so.split('#   PDG code')[1].split()[11])\n",
    "    ms03 = eval(so.split('#   PDG code')[1].split()[15])\n",
    "    #Rotation og phi^c\n",
    "    QL11 = eval(so.split('Block LCHARGEDFMIX ')[1].split()[6])\n",
    "    QL12 = eval(so.split('Block LCHARGEDFMIX ')[1].split()[11])\n",
    "    QL21 = eval(so.split('Block LCHARGEDFMIX ')[1].split()[16])\n",
    "    QL22 = eval(so.split('Block LCHARGEDFMIX ')[1].split()[21])\n",
    "    \n",
    "    #mu-> egamma\n",
    "    meg = eval(so.split('Block FlavorKitLFV')[1].split()[6])\n",
    "    \n",
    "    x.append([h11,h12,h13,h21,h22,h23,h31,h32,h33,mv1,mv2,mv3,meg,mFn1,mFn2,mFn3,mFr1,mFr2,mFk,ms01,\\\n",
    "              ms02,ms03,QL11,QL12,QL21,QL22])\n",
    "    \n",
    "x=np.asarray(x)\n",
    "xd=pd.DataFrame(x,columns=['h11','h12','h13','h21','h22','h23','h31','h32','h33','mv1','mv2','mv3',\\\n",
    "                           'meg','mFn1','mFn2','mFn3','mFr1','mFr2','mFk','ms01','ms02','ms03','QL11',\\\n",
    "                           'QL12','QL21','QL22'])\n",
    "\n",
    "t2=time.time() \n",
    "print (\"The program spent\", t2-t1, \"s running\",Num,\"times\")          "
   ]
  },
  {
   "cell_type": "code",
   "execution_count": 4,
   "metadata": {},
   "outputs": [
    {
     "data": {
      "text/html": [
       "<div>\n",
       "<table border=\"1\" class=\"dataframe\">\n",
       "  <thead>\n",
       "    <tr style=\"text-align: right;\">\n",
       "      <th></th>\n",
       "      <th>h11</th>\n",
       "      <th>h12</th>\n",
       "      <th>h13</th>\n",
       "      <th>h21</th>\n",
       "      <th>h22</th>\n",
       "      <th>h23</th>\n",
       "      <th>h31</th>\n",
       "      <th>h32</th>\n",
       "      <th>h33</th>\n",
       "      <th>mv1</th>\n",
       "      <th>...</th>\n",
       "      <th>mFr1</th>\n",
       "      <th>mFr2</th>\n",
       "      <th>mFk</th>\n",
       "      <th>ms01</th>\n",
       "      <th>ms02</th>\n",
       "      <th>ms03</th>\n",
       "      <th>QL11</th>\n",
       "      <th>QL12</th>\n",
       "      <th>QL21</th>\n",
       "      <th>QL22</th>\n",
       "    </tr>\n",
       "  </thead>\n",
       "  <tbody>\n",
       "    <tr>\n",
       "      <th>0</th>\n",
       "      <td>0.044061</td>\n",
       "      <td>0.009544</td>\n",
       "      <td>0.001001</td>\n",
       "      <td>0.002478</td>\n",
       "      <td>0.029647</td>\n",
       "      <td>0.001806</td>\n",
       "      <td>0.062793</td>\n",
       "      <td>0.038561</td>\n",
       "      <td>0.005654</td>\n",
       "      <td>0.0</td>\n",
       "      <td>...</td>\n",
       "      <td>200.824554</td>\n",
       "      <td>300.832168</td>\n",
       "      <td>109.395153</td>\n",
       "      <td>1005.57356</td>\n",
       "      <td>1419.12667</td>\n",
       "      <td>10079.1537</td>\n",
       "      <td>1.0</td>\n",
       "      <td>-0.000052</td>\n",
       "      <td>0.000052</td>\n",
       "      <td>1.0</td>\n",
       "    </tr>\n",
       "    <tr>\n",
       "      <th>1</th>\n",
       "      <td>0.012554</td>\n",
       "      <td>0.004123</td>\n",
       "      <td>0.003995</td>\n",
       "      <td>0.009589</td>\n",
       "      <td>0.009329</td>\n",
       "      <td>0.092645</td>\n",
       "      <td>0.002635</td>\n",
       "      <td>0.003046</td>\n",
       "      <td>0.032348</td>\n",
       "      <td>0.0</td>\n",
       "      <td>...</td>\n",
       "      <td>200.821465</td>\n",
       "      <td>300.831934</td>\n",
       "      <td>109.395150</td>\n",
       "      <td>1005.55799</td>\n",
       "      <td>1419.27369</td>\n",
       "      <td>10077.4354</td>\n",
       "      <td>1.0</td>\n",
       "      <td>-0.000052</td>\n",
       "      <td>0.000052</td>\n",
       "      <td>1.0</td>\n",
       "    </tr>\n",
       "    <tr>\n",
       "      <th>2</th>\n",
       "      <td>0.026548</td>\n",
       "      <td>0.096925</td>\n",
       "      <td>0.005376</td>\n",
       "      <td>0.071189</td>\n",
       "      <td>0.088677</td>\n",
       "      <td>0.003578</td>\n",
       "      <td>0.034047</td>\n",
       "      <td>0.026096</td>\n",
       "      <td>0.017147</td>\n",
       "      <td>0.0</td>\n",
       "      <td>...</td>\n",
       "      <td>200.838436</td>\n",
       "      <td>300.832402</td>\n",
       "      <td>109.395157</td>\n",
       "      <td>1005.64179</td>\n",
       "      <td>1419.35196</td>\n",
       "      <td>10077.8539</td>\n",
       "      <td>1.0</td>\n",
       "      <td>-0.000052</td>\n",
       "      <td>0.000052</td>\n",
       "      <td>1.0</td>\n",
       "    </tr>\n",
       "  </tbody>\n",
       "</table>\n",
       "<p>3 rows × 26 columns</p>\n",
       "</div>"
      ],
      "text/plain": [
       "        h11       h12       h13       h21       h22       h23       h31  \\\n",
       "0  0.044061  0.009544  0.001001  0.002478  0.029647  0.001806  0.062793   \n",
       "1  0.012554  0.004123  0.003995  0.009589  0.009329  0.092645  0.002635   \n",
       "2  0.026548  0.096925  0.005376  0.071189  0.088677  0.003578  0.034047   \n",
       "\n",
       "        h32       h33  mv1  ...         mFr1        mFr2         mFk  \\\n",
       "0  0.038561  0.005654  0.0  ...   200.824554  300.832168  109.395153   \n",
       "1  0.003046  0.032348  0.0  ...   200.821465  300.831934  109.395150   \n",
       "2  0.026096  0.017147  0.0  ...   200.838436  300.832402  109.395157   \n",
       "\n",
       "         ms01        ms02        ms03  QL11      QL12      QL21  QL22  \n",
       "0  1005.57356  1419.12667  10079.1537   1.0 -0.000052  0.000052   1.0  \n",
       "1  1005.55799  1419.27369  10077.4354   1.0 -0.000052  0.000052   1.0  \n",
       "2  1005.64179  1419.35196  10077.8539   1.0 -0.000052  0.000052   1.0  \n",
       "\n",
       "[3 rows x 26 columns]"
      ]
     },
     "execution_count": 4,
     "metadata": {},
     "output_type": "execute_result"
    }
   ],
   "source": [
    "xd[:3]"
   ]
  },
  {
   "cell_type": "markdown",
   "metadata": {},
   "source": [
    "Branching"
   ]
  },
  {
   "cell_type": "markdown",
   "metadata": {},
   "source": [
    "\\begin{equation}\n",
    " Br(\\mu\\to e \\gamma)=\\frac{Q_\\psi^2m_\\mu^5}{128^2\\pi^5m_\\psi^4}\\sum_\\alpha|h_{i\\alpha}h^*_{\\alpha j}|^2\\Bigg[\\frac{2x_\\alpha^3+3x_\\alpha^2-6x_\\alpha+1-6x_\\alpha^2\\textrm{log}(x_\\alpha)}{6(x_\\alpha-1)^4}\\Bigg]\n",
    "\\end{equation}\n",
    "where $x_\\alpha=\\left(\\frac{m_{S\\alpha}}{m_\\psi}\\right)^2$"
   ]
  },
  {
   "cell_type": "code",
   "execution_count": null,
   "metadata": {},
   "outputs": [],
   "source": [
    "def fx(x):\n",
    "    k = (2.*x**3+3.*x**2-6.*x+1-6*x**2*np.log(x))/(6*(x-1)**4)\n",
    "    \n",
    "    return k\n",
    "\n",
    "def floop(hi,hj,ms,mf):\n",
    "    \n",
    "    x = (mf/ms)**2\n",
    "    \n",
    "    \n",
    "    k = (Q**2*mu**5)/(128.**2*np.pi**5*mf**4)*(hi*hj)**2*fx(x)\n",
    "    \n",
    "    return k"
   ]
  },
  {
   "cell_type": "markdown",
   "metadata": {},
   "source": [
    "me rutine"
   ]
  },
  {
   "cell_type": "markdown",
   "metadata": {},
   "source": [
    "\\begin{equation}\n",
    " Br(\\mu\\to e \\gamma)=\\frac{3\\alpha_{em}}{4G_F^2\\times 16\\pi}\\sum_\\alpha|h_{i\\alpha}h^*_{\\alpha j}|^2\\Bigg[\\frac{x_\\alpha^3-6x_\\alpha^2+3x_\\alpha+2+6x_\\alpha\\ln(x_\\alpha)}{6(x_\\alpha-1)^4}\\Bigg]^2\n",
    "\\end{equation}\n",
    "where $x_\\alpha=\\left(\\frac{x^{\\pm}}{m_{S\\alpha}}\\right)^2$"
   ]
  },
  {
   "cell_type": "code",
   "execution_count": 17,
   "metadata": {},
   "outputs": [],
   "source": [
    "def fx(x):\n",
    "    #me\n",
    "    k = (x**3-6.*x**2+3.*x+2+6*x*np.log(x))/(6*(x-1)**4)\n",
    "    \n",
    "    return k\n",
    "\n",
    "def floop(hi,hj,ms,mf):\n",
    "    \n",
    "    x = (mf/ms)**2\n",
    "    \n",
    "    alpha=1./137.03599\n",
    "    GF = 1.16637000E-05\n",
    "    \n",
    "    k = (3./4.)*(alpha/GF**2)*(1./(16.*np.pi))*(hi*hj*fx(x)/ms**2)**2\n",
    "    \n",
    "    return k"
   ]
  },
  {
   "cell_type": "markdown",
   "metadata": {},
   "source": [
    "$h_{\\alpha i}$"
   ]
  },
  {
   "cell_type": "code",
   "execution_count": 18,
   "metadata": {},
   "outputs": [
    {
     "name": "stdout",
     "output_type": "stream",
     "text": [
      "1.2021928069e-13 4.13665831942e-17 1.04016558486e-20 1.20260657675e-13\n"
     ]
    }
   ],
   "source": [
    "s1 = floop(h12*QL11,h11*QL11,ms01,mFr1)+floop(h12*QL12,h11*QL12,ms01,mFr2)\n",
    "s2 = floop(h22*QL11,h21*QL11,ms02,mFr1)+floop(h22*QL12,h21*QL12,ms02,mFr2)\n",
    "s3 = floop(h32*QL11,h31*QL11,ms03,mFr1)+floop(h32*QL12,h31*QL12,ms03,mFr2)\n",
    "su = s1+s2+s3\n",
    "print(s1,s2,s3,su)"
   ]
  },
  {
   "cell_type": "code",
   "execution_count": 19,
   "metadata": {},
   "outputs": [],
   "source": [
    "def sumloop(h12,h22,h32,h11,h21,h31,ms01,ms02,ms03,mFr1,mFr2,QL11,QL12):\n",
    "    s1 = floop(h12*QL11,h11*QL11,ms01,mFr1)+floop(h12*QL12,h11*QL12,ms01,mFr2)\n",
    "    s2 = floop(h22*QL11,h21*QL11,ms02,mFr1)+floop(h22*QL12,h21*QL12,ms02,mFr2)\n",
    "    s3 = floop(h32*QL11,h31*QL11,ms03,mFr1)+floop(h32*QL12,h31*QL12,ms03,mFr2)\n",
    "    su = s1+s2+s3\n",
    "    return su"
   ]
  },
  {
   "cell_type": "code",
   "execution_count": 20,
   "metadata": {},
   "outputs": [],
   "source": [
    "xd['megtheoric'] = sumloop(xd.h12,xd.h22,xd.h32,xd.h11,xd.h21,xd.h31,xd.ms01,xd.ms02,xd.ms03,xd.mFr1,xd.mFr2,xd.QL11,xd.QL12)"
   ]
  },
  {
   "cell_type": "code",
   "execution_count": 21,
   "metadata": {},
   "outputs": [
    {
     "data": {
      "text/html": [
       "<div>\n",
       "<table border=\"1\" class=\"dataframe\">\n",
       "  <thead>\n",
       "    <tr style=\"text-align: right;\">\n",
       "      <th></th>\n",
       "      <th>meg</th>\n",
       "      <th>megtheoric</th>\n",
       "    </tr>\n",
       "  </thead>\n",
       "  <tbody>\n",
       "    <tr>\n",
       "      <th>0</th>\n",
       "      <td>1.314199e-14</td>\n",
       "      <td>9.686698e-15</td>\n",
       "    </tr>\n",
       "    <tr>\n",
       "      <th>1</th>\n",
       "      <td>5.547693e-16</td>\n",
       "      <td>2.746496e-16</td>\n",
       "    </tr>\n",
       "    <tr>\n",
       "      <th>2</th>\n",
       "      <td>1.991576e-12</td>\n",
       "      <td>1.004540e-12</td>\n",
       "    </tr>\n",
       "  </tbody>\n",
       "</table>\n",
       "</div>"
      ],
      "text/plain": [
       "            meg    megtheoric\n",
       "0  1.314199e-14  9.686698e-15\n",
       "1  5.547693e-16  2.746496e-16\n",
       "2  1.991576e-12  1.004540e-12"
      ]
     },
     "execution_count": 21,
     "metadata": {},
     "output_type": "execute_result"
    }
   ],
   "source": [
    "xd[['meg','megtheoric']][:3]"
   ]
  },
  {
   "cell_type": "code",
   "execution_count": 26,
   "metadata": {},
   "outputs": [
    {
     "data": {
      "image/png": "[encoded data removed]",
      "text/plain": [
       "<matplotlib.figure.Figure at 0x7f8a1ff8cef0>"
      ]
     },
     "metadata": {
      "needs_background": "light"
     },
     "output_type": "display_data"
    }
   ],
   "source": [
    "plt.figure(figsize=(8,6))\n",
    "\n",
    "#plt.loglog(xd.meg,xd.megtheoric,'co')\n",
    "plt.loglog(xd.meg,2.*xd.megtheoric,'bo')\n",
    "\n",
    "a = np.linspace(1e-17,1e-12,10)\n",
    "plt.plot(a,a,'r-')\n",
    "\n",
    "plt.xlabel(r'$BR(\\mu\\to e\\gamma)$ SPHENO ',size=25)\n",
    "plt.ylabel(r'$BR(\\mu\\to e\\gamma)$ Analytic ',size=25)\n",
    "\n",
    "plt.grid()\n",
    "\n",
    "plt.tight_layout()\n",
    "plt.savefig('plots/muegamma.pdf')"
   ]
  },
  {
   "cell_type": "code",
   "execution_count": null,
   "metadata": {},
   "outputs": [],
   "source": []
  }
 ],
 "metadata": {
  "kernelspec": {
   "display_name": "Python 3",
   "language": "python",
   "name": "python3"
  },
  "language_info": {
   "codemirror_mode": {
    "name": "ipython",
    "version": 3
   },
   "file_extension": ".py",
   "mimetype": "text/x-python",
   "name": "python",
   "nbconvert_exporter": "python",
   "pygments_lexer": "ipython3",
   "version": "3.5.3"
  }
 },
 "nbformat": 4,
 "nbformat_minor": 1
}
