{
 "cells": [
  {
   "cell_type": "markdown",
   "metadata": {},
   "source": [
    "# Anality Yukawas"
   ]
  },
  {
   "cell_type": "markdown",
   "metadata": {},
   "source": [
    "The Yukawa couplings $f_{i\\alpha}$ can be written in terms of $h_{i\\alpha}$ and the neutrinos observables. For the case of two non-zero neutrino masses we have,\n",
    "\n",
    "\\begin{align}\n",
    "f = \\sqrt{D}R\\sqrt{D}U_{{\\rm PMNS}}^T\\left(h^{-1}\\right)^T\\Lambda^{-1}\\;,\n",
    "\\end{align}\n",
    "\n",
    "where,\n",
    "\n",
    "\\begin{align}\n",
    "    R = \\left\\{ \\begin{array}{lcc}\n",
    "\\begin{pmatrix}\n",
    "0&0&0\\\\\n",
    "0&1&0\\\\\n",
    "0&0&1\n",
    "\\end{pmatrix} &   {\\mathrm{for}}  & {\\mathrm{NH}}  \\;,\n",
    "\\\\ \\\\ \\begin{pmatrix}\n",
    "1&0&0\\\\\n",
    "0&1&0\\\\\n",
    "0&0&0\n",
    "\\end{pmatrix} &   {\\mathrm{for}}   & {\\mathrm{IH}} \\;,\n",
    "\\end{array}\n",
    "\\right.\n",
    "\\end{align}\n",
    "\n",
    "and \n",
    "\n",
    "\\begin{align}\n",
    "\\sqrt{D} = \\left\\{ \\begin{array}{lcc}\n",
    "{\\rm diag}(\\sqrt{v},\\sqrt{m_2},\\sqrt{m_3}) &   {\\mathrm{for}}  & {\\mathrm{NH}}  \\,,\n",
    "\\\\ {\\rm diag}(\\sqrt{m_1},\\sqrt{m_2},\\sqrt{v}) &   {\\mathrm{for}}   & {\\mathrm{IH}} \\,.\n",
    "\\end{array}\n",
    "\\right.\n",
    "\\end{align}"
   ]
  },
  {
   "cell_type": "markdown",
   "metadata": {},
   "source": [
    "h matrix with $h_{i\\alpha} = 0$ does not work.\n",
    "\n",
    "\\begin{align}\n",
    "h = \n",
    "\\begin{pmatrix}\n",
    "h_{11}&h_{12}&0\\\\\n",
    "h_{21}&h_{22}&0\\\\\n",
    "h_{31}&h_{32}&0\n",
    "\\end{pmatrix}\n",
    "\\end{align}"
   ]
  },
  {
   "cell_type": "code",
   "execution_count": 1,
   "metadata": {},
   "outputs": [],
   "source": [
    "import numpy as np\n",
    "import NEUTRINO2018"
   ]
  },
  {
   "cell_type": "code",
   "execution_count": 2,
   "metadata": {},
   "outputs": [],
   "source": [
    "def ran_num():\n",
    "    \n",
    "    x = np.exp(np.random.uniform(np.log(1.*10**(-4)),np.log(10**(0))))\n",
    "    \n",
    "    return x"
   ]
  },
  {
   "cell_type": "code",
   "execution_count": 3,
   "metadata": {},
   "outputs": [],
   "source": [
    "#Random h and h^{-1} matrix\n",
    "\n",
    "def ran_num():\n",
    "    \n",
    "    x = np.exp(np.random.uniform(np.log(1.*10**(-4)),np.log(10**(0))))\n",
    "    \n",
    "    return x\n",
    "\n",
    "def h():\n",
    "    h = np.array([[ran_num(),ran_num(),ran_num()],\n",
    "                  [ran_num(),ran_num(),ran_num()],\n",
    "                  [ran_num(),ran_num(),ran_num()]])\n",
    "    \n",
    "    return h\n",
    "\n",
    "def h1(h):\n",
    "    \n",
    "    #h inverse\n",
    "    h1 = np.linalg.inv(h)\n",
    "    return h1"
   ]
  },
  {
   "cell_type": "code",
   "execution_count": 5,
   "metadata": {},
   "outputs": [],
   "source": [
    "def D(m1,m2,m3):\n",
    "    x = np.array([[np.sqrt(m1),0.,0.],\n",
    "                  [0.,np.sqrt(m2),0.],[0.,0.,np.sqrt(m3)]])\n",
    "    return x\n",
    "\n",
    "def R_NH():\n",
    "    x = np.array([[0.,0.,0.],\n",
    "                  [0.,1.,0.],\n",
    "                  [0.,0.,1.]])\n",
    "    return x\n",
    "\n",
    "def R_IH():\n",
    "    x = np.array([[1.,0.,0.],\n",
    "                  [0.,1.,0.],\n",
    "                  [0.,0.,0.]])\n",
    "    return x"
   ]
  },
  {
   "cell_type": "code",
   "execution_count": 46,
   "metadata": {},
   "outputs": [],
   "source": [
    "def exp_val():\n",
    "    \n",
    "    k = NEUTRINO2018.NH()\n",
    "    UPMNS = np.array([[k['U11'],k['U12'],k['U13']],\n",
    "              [k['U21'],k['U22'],k['U23']],\n",
    "              [k['U31'],k['U32'],k['U33']]])\n",
    "    \n",
    "    D_M = D(k['mnu1'],k['mnu2'],k['mnu3'])\n",
    "    \n",
    "    return UPMNS,D_M"
   ]
  },
  {
   "cell_type": "code",
   "execution_count": 47,
   "metadata": {},
   "outputs": [
    {
     "data": {
      "text/plain": [
       "(array([[ 0.83689526,  0.5279242 ,  0.14457646],\n",
       "        [-0.44749461,  0.50779792,  0.73613167],\n",
       "        [ 0.3152061 , -0.68076229,  0.66121692]]),\n",
       " array([[  1.00000000e-10,   0.00000000e+00,   0.00000000e+00],\n",
       "        [  0.00000000e+00,   2.97335931e-06,   0.00000000e+00],\n",
       "        [  0.00000000e+00,   0.00000000e+00,   7.04680133e-06]]))"
      ]
     },
     "execution_count": 47,
     "metadata": {},
     "output_type": "execute_result"
    }
   ],
   "source": [
    "A = exp_val()\n",
    "exp_val()"
   ]
  },
  {
   "cell_type": "markdown",
   "metadata": {},
   "source": [
    "\\begin{align}\n",
    "f = \\sqrt{D}R\\sqrt{D}U_{{\\rm PMNS}}^T\\left(h^{-1}\\right)^T\\Lambda^{-1}\\;,\n",
    "\\end{align}"
   ]
  },
  {
   "cell_type": "code",
   "execution_count": 48,
   "metadata": {},
   "outputs": [
    {
     "data": {
      "text/plain": [
       "array([[  0.00000000e+00,   0.00000000e+00,   0.00000000e+00],\n",
       "       [ -6.90882287e-12,  -1.38063277e-11,   2.29315122e-11],\n",
       "       [ -4.90842756e-11,   8.38653877e-11,   2.91660871e-11]])"
      ]
     },
     "execution_count": 48,
     "metadata": {},
     "output_type": "execute_result"
    }
   ],
   "source": [
    "hij = h() \n",
    "N = exp_val()\n",
    "\n",
    "f = np.dot(np.dot(np.dot(np.dot(N[1],R_NH()),N[1]),np.transpose(N[0])),np.transpose(h1(hij)))\n",
    "f"
   ]
  },
  {
   "cell_type": "code",
   "execution_count": 49,
   "metadata": {},
   "outputs": [],
   "source": [
    "#Yukawa without Lambda\n",
    "def yuk_f():\n",
    "    \n",
    "    hij = h() \n",
    "    N = exp_val()\n",
    "    fij = np.dot(np.dot(np.dot(np.dot(N[1],R_NH()),N[1]),np.transpose(N[0])),np.transpose(h1(hij)))\n",
    "    return hij,fij,N"
   ]
  },
  {
   "cell_type": "code",
   "execution_count": 51,
   "metadata": {},
   "outputs": [],
   "source": [
    "B = yuk_f()"
   ]
  },
  {
   "cell_type": "code",
   "execution_count": 52,
   "metadata": {},
   "outputs": [
    {
     "data": {
      "text/plain": [
       "(array([[  6.71743297e-03,   4.50474923e-01,   8.38546528e-01],\n",
       "        [  1.23532158e-03,   6.27686799e-04,   3.07712974e-02],\n",
       "        [  1.15259094e-04,   4.21262831e-01,   6.57536249e-04]]),\n",
       " array([[  0.00000000e+00,   0.00000000e+00,   0.00000000e+00],\n",
       "        [  4.19323758e-09,  -1.46601958e-11,  -2.00119223e-11],\n",
       "        [  3.71841254e-08,   7.25954941e-11,  -3.28323771e-10]]),\n",
       " (array([[ 0.82429883,  0.54798596,  0.14227727],\n",
       "         [-0.46983194,  0.52188466,  0.71196513],\n",
       "         [ 0.31589457, -0.65371843,  0.68765022]]),\n",
       "  array([[  1.00000000e-10,   0.00000000e+00,   0.00000000e+00],\n",
       "         [  0.00000000e+00,   2.95431652e-06,   0.00000000e+00],\n",
       "         [  0.00000000e+00,   0.00000000e+00,   7.09869512e-06]])))"
      ]
     },
     "execution_count": 52,
     "metadata": {},
     "output_type": "execute_result"
    }
   ],
   "source": [
    "B"
   ]
  },
  {
   "cell_type": "code",
   "execution_count": 61,
   "metadata": {},
   "outputs": [
    {
     "data": {
      "text/plain": [
       "array([[  1.00000000e-10,   0.00000000e+00,   0.00000000e+00],\n",
       "       [  0.00000000e+00,   2.95431652e-06,   0.00000000e+00],\n",
       "       [  0.00000000e+00,   0.00000000e+00,   7.09869512e-06]])"
      ]
     },
     "execution_count": 61,
     "metadata": {},
     "output_type": "execute_result"
    }
   ],
   "source": [
    "B[2][1]"
   ]
  },
  {
   "cell_type": "code",
   "execution_count": null,
   "metadata": {},
   "outputs": [],
   "source": []
  }
 ],
 "metadata": {
  "kernelspec": {
   "display_name": "Python 3",
   "language": "python",
   "name": "python3"
  },
  "language_info": {
   "codemirror_mode": {
    "name": "ipython",
    "version": 3
   },
   "file_extension": ".py",
   "mimetype": "text/x-python",
   "name": "python",
   "nbconvert_exporter": "python",
   "pygments_lexer": "ipython3",
   "version": "3.5.3"
  }
 },
 "nbformat": 4,
 "nbformat_minor": 4
}
