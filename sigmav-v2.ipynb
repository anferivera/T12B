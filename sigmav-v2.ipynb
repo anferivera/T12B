{
 "cells": [
  {
   "cell_type": "markdown",
   "metadata": {},
   "source": [
    "## T12B model: $\\langle \\sigma_v\\rangle$"
   ]
  },
  {
   "cell_type": "code",
   "execution_count": 1,
   "metadata": {},
   "outputs": [],
   "source": [
    "import numpy as np\n",
    "import pandas as pd\n",
    "import subprocess\n",
    "import time\n",
    "\n",
    "%matplotlib inline\n",
    "import matplotlib.pyplot as plt "
   ]
  },
  {
   "cell_type": "code",
   "execution_count": 2,
   "metadata": {},
   "outputs": [],
   "source": [
    "#good plots\n",
    "plt.rcParams.update({'font.size': 18}) \n",
    "#plt.rc('font',size='18')"
   ]
  },
  {
   "cell_type": "markdown",
   "metadata": {},
   "source": [
    "### Benchamark point (Longas)"
   ]
  },
  {
   "cell_type": "code",
   "execution_count": 3,
   "metadata": {},
   "outputs": [],
   "source": [
    "#Read SPheno\n",
    "subprocess.getoutput('cp BP/SPheno.spc.T12B .')\n",
    "so = subprocess.getoutput('cat SPheno.spc.T12B')"
   ]
  },
  {
   "cell_type": "code",
   "execution_count": 4,
   "metadata": {},
   "outputs": [],
   "source": [
    "#run micromegas\n",
    "mo = subprocess.getoutput('~/Work/micromegas_5.0.4/T12B/./CalcOmega_with_DI_Detection')"
   ]
  },
  {
   "cell_type": "code",
   "execution_count": 19,
   "metadata": {},
   "outputs": [
    {
     "name": "stdout",
     "output_type": "stream",
     "text": [
      "5.1e-26\n"
     ]
    }
   ],
   "source": [
    "sv = eval(mo.split('annihilation cross section')[1].split()[0])\n",
    "print(sv)"
   ]
  },
  {
   "cell_type": "code",
   "execution_count": 9,
   "metadata": {},
   "outputs": [],
   "source": [
    "YhR11 = eval(so.split('Block YhR1')[1].split()[6])\n",
    "YhR12 = eval(so.split('Block YhR1')[1].split()[10])\n",
    "YhR13 = eval(so.split('Block YhR1')[1].split()[14])\n",
    "\n",
    "YhR21 = eval(so.split('Block YhR2')[1].split()[6])\n",
    "YhR22 = eval(so.split('Block YhR2')[1].split()[10])\n",
    "YhR23 = eval(so.split('Block YhR2')[1].split()[14])\n",
    "\n",
    "YhR31 = eval(so.split('Block YhR3')[1].split()[6])\n",
    "YhR32 = eval(so.split('Block YhR3')[1].split()[10])\n",
    "YhR33 = eval(so.split('Block YhR3')[1].split()[14])\n",
    "\n",
    "YfR11 = eval(so.split('Block YfR1')[1].split()[6])\n",
    "YfR12 = eval(so.split('Block YfR1')[1].split()[10])\n",
    "YfR13 = eval(so.split('Block YfR1')[1].split()[14])\n",
    "\n",
    "YfR21 = eval(so.split('Block YfR2')[1].split()[6])\n",
    "YfR22 = eval(so.split('Block YfR2')[1].split()[10])\n",
    "YfR23 = eval(so.split('Block YfR2')[1].split()[14])\n",
    "\n",
    "YfR31 = eval(so.split('Block YfR3')[1].split()[6])\n",
    "YfR32 = eval(so.split('Block YfR3')[1].split()[10])\n",
    "YfR33 = eval(so.split('Block YfR3')[1].split()[14])"
   ]
  },
  {
   "cell_type": "code",
   "execution_count": 10,
   "metadata": {},
   "outputs": [],
   "source": [
    "mv1 = 2.92969138E-29 \n",
    "mv2 = 5.77928740E-14 \n",
    "mv3 = 1.27525691E-09 \n",
    "\n",
    "ms1 = eval(so.split('Block MASS')[1].split()[13])\n",
    "ms2 = eval(so.split('Block MASS')[1].split()[17])\n",
    "ms3 = eval(so.split('Block MASS')[1].split()[21])\n",
    "\n",
    "mx = eval(so.split('# Fe_3')[1].split()[1])"
   ]
  },
  {
   "cell_type": "markdown",
   "metadata": {},
   "source": [
    "Anality equation"
   ]
  },
  {
   "cell_type": "markdown",
   "metadata": {},
   "source": [
    "\\begin{align}\n",
    "    \\langle \\sigma v \\rangle \\simeq  \\sum_{i,\\alpha=1}^3\\dfrac{1}{32\\pi}\\dfrac{( m_{\\nu_i}^2+m_{\\chi}^2)}{( m_{S_\\alpha}^2+m_{\\chi}^2-m_{\\nu_i}^2)^2}\n",
    "    \\sqrt{1-\\dfrac{m_{\\nu_i}^2}{m_{\\chi}^2}}\\left(f_{i\\alpha}^2+h_{i\\alpha}^2\\right)^2\\,,\n",
    "\\end{align}"
   ]
  },
  {
   "cell_type": "code",
   "execution_count": 11,
   "metadata": {},
   "outputs": [],
   "source": [
    "def sigmav(mi,mx,msi,yhi,yfi):\n",
    "    \n",
    "    factor = (1.98)**3/(6.58*1e17) #change GeV-2 to cm3/s\n",
    "    \n",
    "    sv = (1./(32.*np.pi))*(mi**2+mx**2)/(msi**2+mx**2-mi**2)**2*np.sqrt(1.-(mi/mx)**2)*(yfi**2+yhi**2)**2*factor\n",
    "    \n",
    "    return sv"
   ]
  },
  {
   "cell_type": "code",
   "execution_count": 12,
   "metadata": {},
   "outputs": [
    {
     "data": {
      "text/plain": [
       "3.954323411260879e-31"
      ]
     },
     "execution_count": 12,
     "metadata": {},
     "output_type": "execute_result"
    }
   ],
   "source": [
    "sigmav(mv1,mx,ms1,YhR33,YfR33)"
   ]
  },
  {
   "cell_type": "markdown",
   "metadata": {},
   "source": [
    "Apply the sum:"
   ]
  },
  {
   "cell_type": "code",
   "execution_count": 21,
   "metadata": {},
   "outputs": [
    {
     "name": "stdout",
     "output_type": "stream",
     "text": [
      "9.89331826254e-26\n"
     ]
    }
   ],
   "source": [
    "sv_anality = sigmav(mv1,mx,ms1,YhR11,YfR11)+sigmav(mv2,mx,ms1,YhR12,YfR12)+sigmav(mv3,mx,ms1,YhR13,YfR13)+\\\n",
    "sigmav(mv1,mx,ms2,YhR21,YfR21)+sigmav(mv2,mx,ms2,YhR22,YfR22)+sigmav(mv3,mx,ms2,YhR23,YfR23)+\\\n",
    "sigmav(mv1,mx,ms3,YhR31,YfR31)+sigmav(mv2,mx,ms3,YhR32,YfR32)+sigmav(mv3,mx,ms3,YhR33,YfR33)\n",
    "\n",
    "print(sv_anality)"
   ]
  },
  {
   "cell_type": "code",
   "execution_count": null,
   "metadata": {},
   "outputs": [],
   "source": []
  },
  {
   "cell_type": "code",
   "execution_count": 33,
   "metadata": {},
   "outputs": [
    {
     "name": "stdout",
     "output_type": "stream",
     "text": [
      "===============================\n",
      "sv_micromegas= 5.1e-26\n",
      "\n",
      "\n",
      "sv_anality= 9.89331826254e-26\n",
      "===============================\n"
     ]
    }
   ],
   "source": [
    "print('===============================')\n",
    "print('sv_micromegas=',sv)\n",
    "print('\\n')\n",
    "print('sv_anality=',sv_anality)\n",
    "print('===============================')"
   ]
  },
  {
   "cell_type": "markdown",
   "metadata": {},
   "source": [
    "parece el doble... "
   ]
  },
  {
   "cell_type": "code",
   "execution_count": 32,
   "metadata": {},
   "outputs": [
    {
     "data": {
      "text/plain": [
       "4.9466591312693172e-26"
      ]
     },
     "execution_count": 32,
     "metadata": {},
     "output_type": "execute_result"
    }
   ],
   "source": [
    "sv_anality/2"
   ]
  },
  {
   "cell_type": "code",
   "execution_count": null,
   "metadata": {},
   "outputs": [],
   "source": []
  }
 ],
 "metadata": {
  "kernelspec": {
   "display_name": "Python 3",
   "language": "python",
   "name": "python3"
  },
  "language_info": {
   "codemirror_mode": {
    "name": "ipython",
    "version": 3
   },
   "file_extension": ".py",
   "mimetype": "text/x-python",
   "name": "python",
   "nbconvert_exporter": "python",
   "pygments_lexer": "ipython3",
   "version": "3.5.3"
  }
 },
 "nbformat": 4,
 "nbformat_minor": 1
}
